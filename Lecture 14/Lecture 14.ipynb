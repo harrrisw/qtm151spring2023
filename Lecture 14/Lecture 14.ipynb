{
 "cells": [
  {
   "attachments": {},
   "cell_type": "markdown",
   "metadata": {},
   "source": [
    "# <span style=\"color:darkblue\"> Lecture 14 - Aggregating Data </span>\n",
    "\n",
    "<font size = \"5\">\n",
    "\n",
    "In the previous class we covered\n",
    "\n",
    "- Missing values\n",
    "- The basics of data cleaning\n",
    "\n",
    "This class we will talk about \n",
    "- Computing aggregate statistics by group\n",
    "- Introduction to merging"
   ]
  },
  {
   "attachments": {},
   "cell_type": "markdown",
   "metadata": {},
   "source": [
    "# <span style=\"color:darkblue\"> I. Import Libraries and Data </span>\n"
   ]
  },
  {
   "attachments": {},
   "cell_type": "markdown",
   "metadata": {},
   "source": [
    "<font size = \"5\">\n",
    "Key libraries"
   ]
  },
  {
   "cell_type": "code",
   "execution_count": 1,
   "metadata": {},
   "outputs": [],
   "source": [
    "import numpy as np\n",
    "import pandas as pd\n",
    "import matplotlib.pyplot as plt"
   ]
  },
  {
   "attachments": {},
   "cell_type": "markdown",
   "metadata": {},
   "source": [
    "<font size = \"5\">\n",
    "\n",
    "Read dataset on car racing circuits\n",
    "\n",
    "- https://en.wikipedia.org/wiki/Formula_One <br>\n",
    "- [See Data Source](https://www.kaggle.com/datasets/rohanrao/formula-1-world-championship-1950-2020)"
   ]
  },
  {
   "cell_type": "code",
   "execution_count": 2,
   "metadata": {},
   "outputs": [],
   "source": [
    "results = pd.read_csv(\"data_raw/results.csv\")"
   ]
  },
  {
   "attachments": {},
   "cell_type": "markdown",
   "metadata": {},
   "source": [
    "<font size = \"5\">\n",
    "\n",
    "The dataset \"codebook\" is a table with ...\n",
    "\n",
    "- Key column information\n",
    "- Main things:  Field, Type, Key, and Description\n",
    "\n",
    "<img src=\"figures/codebook_races.png\" alt=\"drawing\" width=\"600\"/>\n"
   ]
  },
  {
   "cell_type": "code",
   "execution_count": null,
   "metadata": {},
   "outputs": [],
   "source": [
    "# The codebook contains basic about the columns\n",
    "# \"Field\" is the name given to the name of the column\n",
    "# \"Type\"  is the variable type:\n",
    "#         integer (int)\n",
    "#         string (varchar - \"variable character\")\n",
    "#         float (float)\n",
    "#         The number in parenthesis is the maximum number of characters/digits\n",
    "#         For most purposes we can ignore the numbers in parentheses.\n",
    "# \"Key\" denotes whether this is the primary key \"PRI\" (also known as the identifier)\n",
    "#         This is a column with unique values, that uniquely identifies each row\n",
    "# \"Description\" contains a label with the content of the variable"
   ]
  },
  {
   "attachments": {},
   "cell_type": "markdown",
   "metadata": {},
   "source": [
    "<font size = \"5\">\n",
    "\n",
    "Get column names + types\n",
    "\n",
    "- Do types match the codebook?\n",
    "- If not the data may need to be cleaned"
   ]
  },
  {
   "cell_type": "code",
   "execution_count": 3,
   "metadata": {},
   "outputs": [
    {
     "data": {
      "text/plain": [
       "resultId             int64\n",
       "raceId               int64\n",
       "driverId             int64\n",
       "constructorId        int64\n",
       "number              object\n",
       "grid                 int64\n",
       "position            object\n",
       "positionText        object\n",
       "positionOrder        int64\n",
       "points             float64\n",
       "laps                 int64\n",
       "time                object\n",
       "milliseconds        object\n",
       "fastestLap          object\n",
       "rank                object\n",
       "fastestLapTime      object\n",
       "fastestLapSpeed     object\n",
       "statusId             int64\n",
       "dtype: object"
      ]
     },
     "execution_count": 3,
     "metadata": {},
     "output_type": "execute_result"
    }
   ],
   "source": [
    "# This code displays column types\n",
    "# \"int\" or \"float\" objects are numneric\n",
    "# \"object\" typically denotes strings\n",
    "# If a column that's supposed to be \"numeric\" but appears as \"object\"\n",
    "# then it needs to be cleaned and converted to numeric \n",
    "\n",
    "results.dtypes\n"
   ]
  },
  {
   "attachments": {},
   "cell_type": "markdown",
   "metadata": {},
   "source": [
    "<font size = \"5\">\n",
    "\n",
    "Try it yourself!\n",
    "\n",
    "- How many rows does the dataset have?\n",
    "- How many unique values are there for the columns <br>\n",
    "$\\qquad$ \"resultId\"? <br>\n",
    "$\\qquad$ \"raceId\"? <br>\n",
    "$\\qquad$ \"driverId\"? <br>\n",
    "\n",
    "HINT: Use the \"len()\" and the \"pd.unique()\" functions"
   ]
  },
  {
   "cell_type": "code",
   "execution_count": 8,
   "metadata": {},
   "outputs": [
    {
     "name": "stdout",
     "output_type": "stream",
     "text": [
      "25840\n",
<<<<<<< Updated upstream
      "25840\n",
=======
>>>>>>> Stashed changes
      "1079\n",
      "855\n"
     ]
    }
   ],
   "source": [
    "# Write your own code here\n",
    "\n",
<<<<<<< Updated upstream
    "print(len(results))\n",
    "print(len(pd.unique(results[\"resultId\"])))\n",
    "print(len(pd.unique(results[\"raceId\"])))\n",
    "print(len(pd.unique(results[\"driverId\"])))\n"
=======
    "print(len(pd.unique(results[\"resultId\"])))\n",
    "print(len(pd.unique(results[\"raceId\"])))\n",
    "print(len(pd.unique(results[\"driverId\"])))\n",
    "\n"
>>>>>>> Stashed changes
   ]
  },
  {
   "attachments": {},
   "cell_type": "markdown",
   "metadata": {},
   "source": [
    "# <span style=\"color:darkblue\"> II. Aggregate + groupby  </span>\n",
    "\n"
   ]
  },
  {
   "attachments": {},
   "cell_type": "markdown",
   "metadata": {},
   "source": [
    "<font size = \"5\">\n",
    "\n",
    "Splitting code into multiple lines\n",
    "\n",
    "- Makes it easier to read\n",
    "- Simply wrap the code in round parentheses \"()\""
   ]
  },
  {
   "cell_type": "code",
<<<<<<< Updated upstream
   "execution_count": null,
=======
   "execution_count": 9,
>>>>>>> Stashed changes
   "metadata": {},
   "outputs": [],
   "source": [
    "# The following code computes descriptive statistics for points \n",
    "# Wrapping the code in parentheses \"()\" allows you to split it into multiple \n",
    "# lines. It's considered good practice to make each line less than 80 characters\n",
    "# This makes it easier to scroll up and down without going sideways.\n",
    "\n",
    "descriptives_singleline = results[\"points\"].describe()\n",
    "descriptives_multiline = (results[\"points\"]\n",
    "                          .describe())"
   ]
  },
  {
   "attachments": {},
   "cell_type": "markdown",
   "metadata": {},
   "source": [
    "<font size = \"5\">\n",
    "\n",
    "Aggregate statistics "
   ]
  },
  {
   "cell_type": "code",
<<<<<<< Updated upstream
   "execution_count": 6,
=======
   "execution_count": 10,
>>>>>>> Stashed changes
   "metadata": {},
   "outputs": [
    {
     "data": {
      "text/html": [
       "<div>\n",
       "<style scoped>\n",
       "    .dataframe tbody tr th:only-of-type {\n",
       "        vertical-align: middle;\n",
       "    }\n",
       "\n",
       "    .dataframe tbody tr th {\n",
       "        vertical-align: top;\n",
       "    }\n",
       "\n",
       "    .dataframe thead th {\n",
       "        text-align: right;\n",
       "    }\n",
       "</style>\n",
       "<table border=\"1\" class=\"dataframe\">\n",
       "  <thead>\n",
       "    <tr style=\"text-align: right;\">\n",
       "      <th></th>\n",
       "      <th>points</th>\n",
       "    </tr>\n",
       "  </thead>\n",
       "  <tbody>\n",
       "    <tr>\n",
       "      <th>mean_points</th>\n",
       "      <td>1.877053</td>\n",
       "    </tr>\n",
       "    <tr>\n",
       "      <th>sd_points</th>\n",
       "      <td>4.169849</td>\n",
       "    </tr>\n",
       "    <tr>\n",
       "      <th>min_points</th>\n",
       "      <td>0.000000</td>\n",
       "    </tr>\n",
       "    <tr>\n",
       "      <th>max_points</th>\n",
       "      <td>50.000000</td>\n",
       "    </tr>\n",
       "    <tr>\n",
       "      <th>count_obs</th>\n",
       "      <td>25840.000000</td>\n",
       "    </tr>\n",
       "  </tbody>\n",
       "</table>\n",
       "</div>"
      ],
      "text/plain": [
       "                   points\n",
       "mean_points      1.877053\n",
       "sd_points        4.169849\n",
       "min_points       0.000000\n",
       "max_points      50.000000\n",
       "count_obs    25840.000000"
      ]
     },
     "metadata": {},
     "output_type": "display_data"
    }
   ],
   "source": [
    "# The \".agg()\" subfunction computes aggregate statistics\n",
    "# The syntax is (\"column_name\",\"function_name\")\n",
    "# The first argument is the column name\n",
    "# The second argument is the function_name\n",
    "# The command works with single quotations '...' or double \"...\"\n",
    "\n",
    "results_agg = results.agg(mean_points = ('points','mean'),\n",
    "                          sd_points =   ('points','std'),\n",
    "                          min_points =  ('points','min'),\n",
    "                          max_points =  ('points','max'),\n",
    "                          count_obs   = ('points',len))\n",
    "\n",
    "display(results_agg)"
   ]
  },
  {
   "attachments": {},
   "cell_type": "markdown",
   "metadata": {},
   "source": [
    "<font size = \"5\" >\n",
    "\n",
    "Groupby + Aggregate statistics\n",
    "\n",
    "<img src=\"figures/agg.png\" alt=\"drawing\" width=\"400\"/>"
   ]
  },
  {
   "cell_type": "code",
   "execution_count": 11,
   "metadata": {},
   "outputs": [
    {
     "data": {
      "text/plain": [
       "855"
      ]
     },
     "execution_count": 11,
     "metadata": {},
     "output_type": "execute_result"
    }
   ],
   "source": [
    "# In this cases drivers engage in multiple car races\n",
    "# We can compute the aggregate statistics for each specific driver across\n",
    "# multiple car races\n",
    "\n",
    "drivers_agg = (results.groupby(\"driverId\")\n",
    "                      .agg(mean_points = ('points','mean'),\n",
    "                           sd_points =   ('points','std'),\n",
    "                           min_points =  ('points','min'),\n",
    "                           max_points =  ('points','max'),\n",
    "                           count_obs   = ('points',len)))\n",
    "\n",
    "len(drivers_agg)"
   ]
  },
  {
   "attachments": {},
   "cell_type": "markdown",
   "metadata": {},
   "source": [
    "<font size = \"5\" >\n",
    "Groupby + Aggregate statistics (multigroup)"
   ]
  },
  {
   "cell_type": "code",
<<<<<<< Updated upstream
   "execution_count": 10,
=======
   "execution_count": 12,
>>>>>>> Stashed changes
   "metadata": {},
   "outputs": [
    {
     "data": {
      "text/plain": [
       "12568"
      ]
     },
<<<<<<< Updated upstream
     "execution_count": 10,
=======
     "execution_count": 12,
>>>>>>> Stashed changes
     "metadata": {},
     "output_type": "execute_result"
    }
   ],
   "source": [
    "# We can aggregate statistics from multiple columns by\n",
    "# entering a list of column names in \"groupby\"\n",
    "# In this case \"constructor\" in this case denotes the team \n",
    "# The following computes aggregate point stats for each (team, race) combination\n",
    "\n",
    "teamrace_agg = (results.groupby([\"raceId\",\"constructorId\"])\n",
    "                       .agg(mean_points = ('points','mean'),\n",
    "                            sd_points =   ('points','std'),\n",
    "                            min_points =  ('points','min'),\n",
    "                            max_points =  ('points','max'),\n",
    "                            count_obs   = ('points',len)))\n",
    "\n",
    "len(teamrace_agg)"
   ]
  },
  {
   "attachments": {},
   "cell_type": "markdown",
   "metadata": {},
   "source": [
    "<font size = \"5\">\n",
    "\n",
    "Filtering + Grouping + Aggregating: <br>\n",
    "\n",
    "```python \n",
    ".query().groupby().agg()\n",
    "```\n",
    "\n",
    "- This sequential syntax is known as \"chaining\"\n"
   ]
  },
  {
   "cell_type": "code",
<<<<<<< Updated upstream
   "execution_count": 11,
=======
   "execution_count": 13,
>>>>>>> Stashed changes
   "metadata": {},
   "outputs": [],
   "source": [
    "# The following gets a subset of the data using .query()\n",
    "# In this case we subset the data before computing aggregate statistics\n",
    "# Note: \"filtering\" is often the word used to obtain a subset\n",
    "\n",
    "teamrace_agg = (results.query(\"raceId >= 500\")\n",
    "                       .groupby([\"raceId\",\"constructorId\"])\n",
    "                        .agg(mean_points = ('points','mean'),\n",
    "                             sd_points =   ('points','std'),\n",
    "                             min_points =  ('points','min'),\n",
    "                             max_points =  ('points','max'),\n",
    "                             count_obs   = ('points',len)))\n"
   ]
  },
  {
   "attachments": {},
   "cell_type": "markdown",
   "metadata": {},
   "source": [
    "<font size = \"5\">\n",
    "\n",
    "Try it yourself!\n",
    "\n",
    "- Create a new dataset by chaining that <br>\n",
    "groups by \"raceId\" then computes the <br>\n",
    "aggregate statistics: \"points\" average <br> and \"laps\" average\n"
   ]
  },
  {
   "cell_type": "code",
<<<<<<< Updated upstream
   "execution_count": 13,
=======
   "execution_count": 14,
>>>>>>> Stashed changes
   "metadata": {},
   "outputs": [
    {
     "data": {
<<<<<<< Updated upstream
      "text/plain": [
       "1079"
      ]
     },
     "execution_count": 13,
     "metadata": {},
     "output_type": "execute_result"
=======
      "text/html": [
       "<div>\n",
       "<style scoped>\n",
       "    .dataframe tbody tr th:only-of-type {\n",
       "        vertical-align: middle;\n",
       "    }\n",
       "\n",
       "    .dataframe tbody tr th {\n",
       "        vertical-align: top;\n",
       "    }\n",
       "\n",
       "    .dataframe thead th {\n",
       "        text-align: right;\n",
       "    }\n",
       "</style>\n",
       "<table border=\"1\" class=\"dataframe\">\n",
       "  <thead>\n",
       "    <tr style=\"text-align: right;\">\n",
       "      <th></th>\n",
       "      <th>pointsave</th>\n",
       "      <th>lapsave</th>\n",
       "    </tr>\n",
       "    <tr>\n",
       "      <th>raceId</th>\n",
       "      <th></th>\n",
       "      <th></th>\n",
       "    </tr>\n",
       "  </thead>\n",
       "  <tbody>\n",
       "    <tr>\n",
       "      <th>1</th>\n",
       "      <td>1.950</td>\n",
       "      <td>50.25</td>\n",
       "    </tr>\n",
       "    <tr>\n",
       "      <th>2</th>\n",
       "      <td>0.975</td>\n",
       "      <td>27.70</td>\n",
       "    </tr>\n",
       "    <tr>\n",
       "      <th>3</th>\n",
       "      <td>1.950</td>\n",
       "      <td>51.15</td>\n",
       "    </tr>\n",
       "    <tr>\n",
       "      <th>4</th>\n",
       "      <td>1.950</td>\n",
       "      <td>56.25</td>\n",
       "    </tr>\n",
       "    <tr>\n",
       "      <th>5</th>\n",
       "      <td>1.950</td>\n",
       "      <td>47.10</td>\n",
       "    </tr>\n",
       "    <tr>\n",
       "      <th>...</th>\n",
       "      <td>...</td>\n",
       "      <td>...</td>\n",
       "    </tr>\n",
       "    <tr>\n",
       "      <th>1092</th>\n",
       "      <td>5.050</td>\n",
       "      <td>25.20</td>\n",
       "    </tr>\n",
       "    <tr>\n",
       "      <th>1093</th>\n",
       "      <td>5.100</td>\n",
       "      <td>49.50</td>\n",
       "    </tr>\n",
       "    <tr>\n",
       "      <th>1094</th>\n",
       "      <td>5.100</td>\n",
       "      <td>68.90</td>\n",
       "    </tr>\n",
       "    <tr>\n",
       "      <th>1095</th>\n",
       "      <td>5.100</td>\n",
       "      <td>62.80</td>\n",
       "    </tr>\n",
       "    <tr>\n",
       "      <th>1096</th>\n",
       "      <td>5.100</td>\n",
       "      <td>55.85</td>\n",
       "    </tr>\n",
       "  </tbody>\n",
       "</table>\n",
       "<p>1079 rows × 2 columns</p>\n",
       "</div>"
      ],
      "text/plain": [
       "        pointsave  lapsave\n",
       "raceId                    \n",
       "1           1.950    50.25\n",
       "2           0.975    27.70\n",
       "3           1.950    51.15\n",
       "4           1.950    56.25\n",
       "5           1.950    47.10\n",
       "...           ...      ...\n",
       "1092        5.050    25.20\n",
       "1093        5.100    49.50\n",
       "1094        5.100    68.90\n",
       "1095        5.100    62.80\n",
       "1096        5.100    55.85\n",
       "\n",
       "[1079 rows x 2 columns]"
      ]
     },
     "metadata": {},
     "output_type": "display_data"
>>>>>>> Stashed changes
    }
   ],
   "source": [
    "# Write your own code\n",
    "\n",
<<<<<<< Updated upstream
    "pointslaps_agg = (results.groupby(\"raceId\")\n",
    "                         .agg(mean_points = (\"points\",\"mean\"),\n",
    "                              mean_laps = (\"laps\",\"mean\")))\n",
    "\n",
    "len(pointslaps_agg)"
=======
    "display(results.groupby(\"raceId\")\n",
    "                        .agg(pointsave = ('points','mean'),\n",
    "                             lapsave =   ('laps','mean')))\n",
    "\n"
>>>>>>> Stashed changes
   ]
  },
  {
   "attachments": {},
   "cell_type": "markdown",
   "metadata": {},
   "source": [
    "<font size = \"5\">\n",
    "\n",
    "Try it yourself!\n",
    "\n",
    "- Create a new dataset by chaining that <br>\n",
    "groups by \"constructorId\" (the team) then <br> \n",
    "computes the average number of \"points\"\n",
    "- Add a chain \".sort_values(...,ascending = False)\" <br>\n",
    "to sort by team points in desceding order\n"
   ]
  },
  {
   "cell_type": "code",
<<<<<<< Updated upstream
   "execution_count": 18,
=======
   "execution_count": 16,
>>>>>>> Stashed changes
   "metadata": {},
   "outputs": [
    {
     "data": {
      "text/html": [
       "<div>\n",
       "<style scoped>\n",
       "    .dataframe tbody tr th:only-of-type {\n",
       "        vertical-align: middle;\n",
       "    }\n",
       "\n",
       "    .dataframe tbody tr th {\n",
       "        vertical-align: top;\n",
       "    }\n",
       "\n",
       "    .dataframe thead th {\n",
       "        text-align: right;\n",
       "    }\n",
       "</style>\n",
       "<table border=\"1\" class=\"dataframe\">\n",
       "  <thead>\n",
       "    <tr style=\"text-align: right;\">\n",
       "      <th></th>\n",
<<<<<<< Updated upstream
       "      <th>mean_points</th>\n",
=======
       "      <th>pointsave</th>\n",
>>>>>>> Stashed changes
       "    </tr>\n",
       "    <tr>\n",
       "      <th>constructorId</th>\n",
       "      <th></th>\n",
       "    </tr>\n",
       "  </thead>\n",
       "  <tbody>\n",
       "    <tr>\n",
       "      <th>131</th>\n",
       "      <td>12.363643</td>\n",
       "    </tr>\n",
       "    <tr>\n",
       "      <th>9</th>\n",
       "      <td>9.117816</td>\n",
       "    </tr>\n",
       "    <tr>\n",
       "      <th>23</th>\n",
       "      <td>5.058824</td>\n",
       "    </tr>\n",
       "    <tr>\n",
       "      <th>208</th>\n",
       "      <td>4.584416</td>\n",
       "    </tr>\n",
       "    <tr>\n",
       "      <th>6</th>\n",
       "      <td>4.317968</td>\n",
       "    </tr>\n",
       "    <tr>\n",
       "      <th>...</th>\n",
       "      <td>...</td>\n",
       "    </tr>\n",
       "    <tr>\n",
       "      <th>76</th>\n",
       "      <td>0.000000</td>\n",
       "    </tr>\n",
       "    <tr>\n",
       "      <th>77</th>\n",
       "      <td>0.000000</td>\n",
       "    </tr>\n",
       "    <tr>\n",
       "      <th>78</th>\n",
       "      <td>0.000000</td>\n",
       "    </tr>\n",
       "    <tr>\n",
       "      <th>130</th>\n",
       "      <td>0.000000</td>\n",
       "    </tr>\n",
       "    <tr>\n",
       "      <th>112</th>\n",
       "      <td>0.000000</td>\n",
       "    </tr>\n",
       "  </tbody>\n",
       "</table>\n",
       "<p>210 rows × 1 columns</p>\n",
       "</div>"
      ],
      "text/plain": [
<<<<<<< Updated upstream
       "               mean_points\n",
       "constructorId             \n",
       "131              12.363643\n",
       "9                 9.117816\n",
       "23                5.058824\n",
       "208               4.584416\n",
       "6                 4.317968\n",
       "...                    ...\n",
       "76                0.000000\n",
       "77                0.000000\n",
       "78                0.000000\n",
       "130               0.000000\n",
       "112               0.000000\n",
=======
       "               pointsave\n",
       "constructorId           \n",
       "131            12.363643\n",
       "9               9.117816\n",
       "23              5.058824\n",
       "208             4.584416\n",
       "6               4.317968\n",
       "...                  ...\n",
       "76              0.000000\n",
       "77              0.000000\n",
       "78              0.000000\n",
       "130             0.000000\n",
       "112             0.000000\n",
>>>>>>> Stashed changes
       "\n",
       "[210 rows x 1 columns]"
      ]
     },
<<<<<<< Updated upstream
     "execution_count": 18,
     "metadata": {},
     "output_type": "execute_result"
=======
     "metadata": {},
     "output_type": "display_data"
>>>>>>> Stashed changes
    }
   ],
   "source": [
    "# Write your own code\n",
    "\n",
<<<<<<< Updated upstream
    "constructor_agg = (results.groupby(\"constructorId\")\n",
    "                          .agg(mean_points = (\"points\",\"mean\"))\n",
    "                          .sort_values(\"mean_points\",ascending = False))\n",
    "\n",
    "\n",
    "constructor_agg\n"
=======
    "display(results.groupby('constructorId')\n",
    "                .agg(pointsave = ('points','mean'))\n",
    "                .sort_values('pointsave',ascending=False))\n",
    "\n"
>>>>>>> Stashed changes
   ]
  },
  {
   "attachments": {},
   "cell_type": "markdown",
   "metadata": {},
   "source": [
    "# <span style=\"color:darkblue\"> III. Relative statistics within group </span>\n",
    "\n"
   ]
  },
  {
   "attachments": {},
   "cell_type": "markdown",
   "metadata": {},
   "source": [
    "<font size = \"5\">\n",
    "\n",
    "Merging\n",
    "\n",
    "<img src=\"figures/merge_stats.png\" alt=\"drawing\" width=\"600\"/>\n"
   ]
  },
  {
   "cell_type": "code",
<<<<<<< Updated upstream
   "execution_count": 19,
=======
   "execution_count": 17,
>>>>>>> Stashed changes
   "metadata": {},
   "outputs": [],
   "source": [
    "# This command merges the \"aggregate\" information in \"driver_agg\" into\n",
    "# \"results\" as shown in the figure\n",
    "# The merging variable \"on\" is determined by \"driverId\", which is a column\n",
    "# that is common to both datasets\n",
    "# \"how = left\" indicates that the left dataset is the baseline\n",
    "#\n",
    "# Note: For this method to work well \"driverId\" needs to contain unique alues\n",
    "# in \"drivers_agg\". If not you may need to clean the data beforehand\n",
    "\n",
    "results_merge = pd.merge(results,\n",
    "                         drivers_agg,\n",
    "                         on = \"driverId\",\n",
    "                         how = \"left\")\n",
    "\n"
   ]
  },
  {
   "attachments": {},
   "cell_type": "markdown",
   "metadata": {},
   "source": [
    "<font size = \"5\">\n",
    "\n",
    "Check out another approach to compute <br>\n",
    "aggregate statistics using ``` .transform() ```<br>\n",
    " in the optional lecture!"
   ]
  },
  {
   "attachments": {},
   "cell_type": "markdown",
   "metadata": {},
   "source": [
    "<font size = \"5\">\n",
    "\n",
    "Try it yourself!\n",
    "\n",
    "- Compute a scatter plot with ...\n",
    "- \"points\" (y-axis) vs \"mean_points\" (x-axis)\n",
    "\n",
    "Note: This plots tells you how much a driver's <br>\n",
    "performance on individual races deviates from <br>\n",
    "their overall average"
   ]
  },
  {
   "cell_type": "code",
<<<<<<< Updated upstream
   "execution_count": 21,
=======
   "execution_count": 18,
>>>>>>> Stashed changes
   "metadata": {},
   "outputs": [
    {
     "data": {
      "text/plain": [
<<<<<<< Updated upstream
       "Text(0.5, 0, 'Average points per driver')"
      ]
     },
     "execution_count": 21,
=======
       "<matplotlib.collections.PathCollection at 0x1f19e0e3088>"
      ]
     },
     "execution_count": 18,
>>>>>>> Stashed changes
     "metadata": {},
     "output_type": "execute_result"
    },
    {
     "data": {
<<<<<<< Updated upstream
      "image/png": "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",
      "text/plain": [
       "<Figure size 640x480 with 1 Axes>"
      ]
     },
     "metadata": {},
=======
      "image/png": "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",
      "text/plain": [
       "<Figure size 432x288 with 1 Axes>"
      ]
     },
     "metadata": {
      "needs_background": "light"
     },
>>>>>>> Stashed changes
     "output_type": "display_data"
    }
   ],
   "source": [
    "# Write your own code\n",
    "\n",
<<<<<<< Updated upstream
    "plt.scatter(x = results_merge[\"mean_points\"],y = results_merge[\"points\"])\n",
    "plt.ylabel(\"Points\")\n",
    "plt.xlabel(\"Average points per driver\")"
=======
    "plt.scatter(x=results_merge[\"mean_points\"],y=results_merge[\"points\"])\n",
    "\n"
>>>>>>> Stashed changes
   ]
  },
  {
   "attachments": {},
   "cell_type": "markdown",
   "metadata": {},
   "source": [
    "<font size = \"5\">\n",
    "\n",
    "Try it yourself!\n",
    "\n",
    "- Merge the \"teamrace_agg\" data into \"results\"\n",
    "- This time use the option:\n",
    "\n",
    "$\\qquad$ ```on = [\"raceId\",\"constructorId\"]```"
   ]
  },
  {
   "cell_type": "code",
<<<<<<< Updated upstream
   "execution_count": 22,
=======
   "execution_count": 19,
>>>>>>> Stashed changes
   "metadata": {},
   "outputs": [
    {
     "data": {
      "text/html": [
       "<div>\n",
       "<style scoped>\n",
       "    .dataframe tbody tr th:only-of-type {\n",
       "        vertical-align: middle;\n",
       "    }\n",
       "\n",
       "    .dataframe tbody tr th {\n",
       "        vertical-align: top;\n",
       "    }\n",
       "\n",
       "    .dataframe thead th {\n",
       "        text-align: right;\n",
       "    }\n",
       "</style>\n",
       "<table border=\"1\" class=\"dataframe\">\n",
       "  <thead>\n",
       "    <tr style=\"text-align: right;\">\n",
       "      <th></th>\n",
       "      <th>raceId</th>\n",
       "      <th>constructorId</th>\n",
       "      <th>mean_points</th>\n",
       "      <th>sd_points</th>\n",
       "      <th>min_points</th>\n",
       "      <th>max_points</th>\n",
       "      <th>count_obs</th>\n",
       "      <th>resultId</th>\n",
       "      <th>driverId</th>\n",
       "      <th>number</th>\n",
       "      <th>...</th>\n",
       "      <th>positionOrder</th>\n",
       "      <th>points</th>\n",
       "      <th>laps</th>\n",
       "      <th>time</th>\n",
       "      <th>milliseconds</th>\n",
       "      <th>fastestLap</th>\n",
       "      <th>rank</th>\n",
       "      <th>fastestLapTime</th>\n",
       "      <th>fastestLapSpeed</th>\n",
       "      <th>statusId</th>\n",
       "    </tr>\n",
       "  </thead>\n",
       "  <tbody>\n",
       "    <tr>\n",
       "      <th>0</th>\n",
       "      <td>500</td>\n",
       "      <td>1</td>\n",
       "      <td>0.0</td>\n",
       "      <td>0.000000</td>\n",
       "      <td>0.0</td>\n",
       "      <td>0.0</td>\n",
       "      <td>2.0</td>\n",
       "      <td>12060</td>\n",
       "      <td>187</td>\n",
       "      <td>7</td>\n",
       "      <td>...</td>\n",
       "      <td>11</td>\n",
       "      <td>0.0</td>\n",
       "      <td>76</td>\n",
       "      <td>\\N</td>\n",
       "      <td>\\N</td>\n",
       "      <td>\\N</td>\n",
       "      <td>\\N</td>\n",
       "      <td>\\N</td>\n",
       "      <td>\\N</td>\n",
       "      <td>12</td>\n",
       "    </tr>\n",
       "    <tr>\n",
       "      <th>1</th>\n",
       "      <td>500</td>\n",
       "      <td>1</td>\n",
       "      <td>0.0</td>\n",
       "      <td>0.000000</td>\n",
       "      <td>0.0</td>\n",
       "      <td>0.0</td>\n",
       "      <td>2.0</td>\n",
       "      <td>12074</td>\n",
       "      <td>117</td>\n",
       "      <td>8</td>\n",
       "      <td>...</td>\n",
       "      <td>25</td>\n",
       "      <td>0.0</td>\n",
       "      <td>0</td>\n",
       "      <td>\\N</td>\n",
       "      <td>\\N</td>\n",
       "      <td>\\N</td>\n",
       "      <td>\\N</td>\n",
       "      <td>\\N</td>\n",
       "      <td>\\N</td>\n",
       "      <td>3</td>\n",
       "    </tr>\n",
       "    <tr>\n",
       "      <th>2</th>\n",
       "      <td>500</td>\n",
       "      <td>3</td>\n",
       "      <td>1.0</td>\n",
       "      <td>1.414214</td>\n",
       "      <td>0.0</td>\n",
       "      <td>2.0</td>\n",
       "      <td>2.0</td>\n",
       "      <td>12054</td>\n",
       "      <td>199</td>\n",
       "      <td>28</td>\n",
       "      <td>...</td>\n",
       "      <td>5</td>\n",
       "      <td>2.0</td>\n",
       "      <td>77</td>\n",
       "      <td>\\N</td>\n",
       "      <td>\\N</td>\n",
       "      <td>\\N</td>\n",
       "      <td>\\N</td>\n",
       "      <td>\\N</td>\n",
       "      <td>\\N</td>\n",
       "      <td>11</td>\n",
       "    </tr>\n",
       "    <tr>\n",
       "      <th>3</th>\n",
       "      <td>500</td>\n",
       "      <td>3</td>\n",
       "      <td>1.0</td>\n",
       "      <td>1.414214</td>\n",
       "      <td>0.0</td>\n",
       "      <td>2.0</td>\n",
       "      <td>2.0</td>\n",
       "      <td>12068</td>\n",
       "      <td>178</td>\n",
       "      <td>27</td>\n",
       "      <td>...</td>\n",
       "      <td>19</td>\n",
       "      <td>0.0</td>\n",
       "      <td>34</td>\n",
       "      <td>\\N</td>\n",
       "      <td>\\N</td>\n",
       "      <td>\\N</td>\n",
       "      <td>\\N</td>\n",
       "      <td>\\N</td>\n",
       "      <td>\\N</td>\n",
       "      <td>6</td>\n",
       "    </tr>\n",
       "    <tr>\n",
       "      <th>4</th>\n",
       "      <td>500</td>\n",
       "      <td>4</td>\n",
       "      <td>4.5</td>\n",
       "      <td>6.363961</td>\n",
       "      <td>0.0</td>\n",
       "      <td>9.0</td>\n",
       "      <td>2.0</td>\n",
       "      <td>12050</td>\n",
       "      <td>163</td>\n",
       "      <td>16</td>\n",
       "      <td>...</td>\n",
       "      <td>1</td>\n",
       "      <td>9.0</td>\n",
       "      <td>78</td>\n",
       "      <td>1:36:52.54</td>\n",
       "      <td>5812540</td>\n",
       "      <td>\\N</td>\n",
       "      <td>\\N</td>\n",
       "      <td>\\N</td>\n",
       "      <td>\\N</td>\n",
       "      <td>1</td>\n",
       "    </tr>\n",
       "    <tr>\n",
       "      <th>...</th>\n",
       "      <td>...</td>\n",
       "      <td>...</td>\n",
       "      <td>...</td>\n",
       "      <td>...</td>\n",
       "      <td>...</td>\n",
       "      <td>...</td>\n",
       "      <td>...</td>\n",
       "      <td>...</td>\n",
       "      <td>...</td>\n",
       "      <td>...</td>\n",
       "      <td>...</td>\n",
       "      <td>...</td>\n",
       "      <td>...</td>\n",
       "      <td>...</td>\n",
       "      <td>...</td>\n",
       "      <td>...</td>\n",
       "      <td>...</td>\n",
       "      <td>...</td>\n",
       "      <td>...</td>\n",
       "      <td>...</td>\n",
       "      <td>...</td>\n",
       "    </tr>\n",
       "    <tr>\n",
       "      <th>13310</th>\n",
       "      <td>1096</td>\n",
       "      <td>210</td>\n",
       "      <td>0.0</td>\n",
       "      <td>0.000000</td>\n",
       "      <td>0.0</td>\n",
       "      <td>0.0</td>\n",
       "      <td>2.0</td>\n",
       "      <td>25842</td>\n",
       "      <td>825</td>\n",
       "      <td>20</td>\n",
       "      <td>...</td>\n",
       "      <td>17</td>\n",
       "      <td>0.0</td>\n",
       "      <td>57</td>\n",
       "      <td>\\N</td>\n",
       "      <td>\\N</td>\n",
       "      <td>40</td>\n",
       "      <td>20</td>\n",
       "      <td>1:31.158</td>\n",
       "      <td>208.556</td>\n",
       "      <td>11</td>\n",
       "    </tr>\n",
       "    <tr>\n",
       "      <th>13311</th>\n",
       "      <td>1096</td>\n",
       "      <td>213</td>\n",
       "      <td>0.0</td>\n",
       "      <td>0.000000</td>\n",
       "      <td>0.0</td>\n",
       "      <td>0.0</td>\n",
       "      <td>2.0</td>\n",
       "      <td>25836</td>\n",
       "      <td>852</td>\n",
       "      <td>22</td>\n",
       "      <td>...</td>\n",
       "      <td>11</td>\n",
       "      <td>0.0</td>\n",
       "      <td>58</td>\n",
       "      <td>+1:29.371</td>\n",
       "      <td>5355285</td>\n",
       "      <td>40</td>\n",
       "      <td>7</td>\n",
       "      <td>1:29.489</td>\n",
       "      <td>212.446</td>\n",
       "      <td>1</td>\n",
       "    </tr>\n",
       "    <tr>\n",
       "      <th>13312</th>\n",
       "      <td>1096</td>\n",
       "      <td>213</td>\n",
       "      <td>0.0</td>\n",
       "      <td>0.000000</td>\n",
       "      <td>0.0</td>\n",
       "      <td>0.0</td>\n",
       "      <td>2.0</td>\n",
       "      <td>25839</td>\n",
       "      <td>842</td>\n",
       "      <td>10</td>\n",
       "      <td>...</td>\n",
       "      <td>14</td>\n",
       "      <td>0.0</td>\n",
       "      <td>57</td>\n",
       "      <td>\\N</td>\n",
       "      <td>\\N</td>\n",
       "      <td>16</td>\n",
       "      <td>19</td>\n",
       "      <td>1:31.081</td>\n",
       "      <td>208.732</td>\n",
       "      <td>11</td>\n",
       "    </tr>\n",
       "    <tr>\n",
       "      <th>13313</th>\n",
       "      <td>1096</td>\n",
       "      <td>214</td>\n",
       "      <td>3.0</td>\n",
       "      <td>4.242641</td>\n",
       "      <td>0.0</td>\n",
       "      <td>6.0</td>\n",
       "      <td>2.0</td>\n",
       "      <td>25832</td>\n",
       "      <td>839</td>\n",
       "      <td>31</td>\n",
       "      <td>...</td>\n",
       "      <td>7</td>\n",
       "      <td>6.0</td>\n",
       "      <td>58</td>\n",
       "      <td>+57.240</td>\n",
       "      <td>5323154</td>\n",
       "      <td>45</td>\n",
       "      <td>5</td>\n",
       "      <td>1:29.333</td>\n",
       "      <td>212.817</td>\n",
       "      <td>1</td>\n",
       "    </tr>\n",
       "    <tr>\n",
       "      <th>13314</th>\n",
       "      <td>1096</td>\n",
       "      <td>214</td>\n",
       "      <td>3.0</td>\n",
       "      <td>4.242641</td>\n",
       "      <td>0.0</td>\n",
       "      <td>6.0</td>\n",
       "      <td>2.0</td>\n",
       "      <td>25845</td>\n",
       "      <td>4</td>\n",
       "      <td>14</td>\n",
       "      <td>...</td>\n",
       "      <td>20</td>\n",
       "      <td>0.0</td>\n",
       "      <td>27</td>\n",
       "      <td>\\N</td>\n",
       "      <td>\\N</td>\n",
       "      <td>24</td>\n",
       "      <td>17</td>\n",
       "      <td>1:30.579</td>\n",
       "      <td>209.889</td>\n",
       "      <td>47</td>\n",
       "    </tr>\n",
       "  </tbody>\n",
       "</table>\n",
       "<p>13315 rows × 23 columns</p>\n",
       "</div>"
      ],
      "text/plain": [
       "       raceId  constructorId  mean_points  sd_points  min_points  max_points  \\\n",
       "0         500              1          0.0   0.000000         0.0         0.0   \n",
       "1         500              1          0.0   0.000000         0.0         0.0   \n",
       "2         500              3          1.0   1.414214         0.0         2.0   \n",
       "3         500              3          1.0   1.414214         0.0         2.0   \n",
       "4         500              4          4.5   6.363961         0.0         9.0   \n",
       "...       ...            ...          ...        ...         ...         ...   \n",
       "13310    1096            210          0.0   0.000000         0.0         0.0   \n",
       "13311    1096            213          0.0   0.000000         0.0         0.0   \n",
       "13312    1096            213          0.0   0.000000         0.0         0.0   \n",
       "13313    1096            214          3.0   4.242641         0.0         6.0   \n",
       "13314    1096            214          3.0   4.242641         0.0         6.0   \n",
       "\n",
       "       count_obs  resultId  driverId number  ...  positionOrder points laps  \\\n",
       "0            2.0     12060       187      7  ...             11    0.0   76   \n",
       "1            2.0     12074       117      8  ...             25    0.0    0   \n",
       "2            2.0     12054       199     28  ...              5    2.0   77   \n",
       "3            2.0     12068       178     27  ...             19    0.0   34   \n",
       "4            2.0     12050       163     16  ...              1    9.0   78   \n",
       "...          ...       ...       ...    ...  ...            ...    ...  ...   \n",
       "13310        2.0     25842       825     20  ...             17    0.0   57   \n",
       "13311        2.0     25836       852     22  ...             11    0.0   58   \n",
       "13312        2.0     25839       842     10  ...             14    0.0   57   \n",
       "13313        2.0     25832       839     31  ...              7    6.0   58   \n",
       "13314        2.0     25845         4     14  ...             20    0.0   27   \n",
       "\n",
       "             time  milliseconds  fastestLap rank fastestLapTime  \\\n",
       "0              \\N            \\N          \\N   \\N             \\N   \n",
       "1              \\N            \\N          \\N   \\N             \\N   \n",
       "2              \\N            \\N          \\N   \\N             \\N   \n",
       "3              \\N            \\N          \\N   \\N             \\N   \n",
       "4      1:36:52.54       5812540          \\N   \\N             \\N   \n",
       "...           ...           ...         ...  ...            ...   \n",
       "13310          \\N            \\N          40   20       1:31.158   \n",
       "13311   +1:29.371       5355285          40    7       1:29.489   \n",
       "13312          \\N            \\N          16   19       1:31.081   \n",
       "13313     +57.240       5323154          45    5       1:29.333   \n",
       "13314          \\N            \\N          24   17       1:30.579   \n",
       "\n",
       "      fastestLapSpeed statusId  \n",
       "0                  \\N       12  \n",
       "1                  \\N        3  \n",
       "2                  \\N       11  \n",
       "3                  \\N        6  \n",
       "4                  \\N        1  \n",
       "...               ...      ...  \n",
       "13310         208.556       11  \n",
       "13311         212.446        1  \n",
       "13312         208.732       11  \n",
       "13313         212.817        1  \n",
       "13314         209.889       47  \n",
       "\n",
       "[13315 rows x 23 columns]"
      ]
     },
     "metadata": {},
     "output_type": "display_data"
    }
   ],
   "source": [
    "# Write your own code\n",
    "\n",
<<<<<<< Updated upstream
    "results_merge_teamrace = pd.merge(results,\n",
    "                                  teamrace_agg,\n",
    "                                  on = [\"raceId\",\"constructorId\"],\n",
    "                         how = \"left\")\n",
=======
    "\n",
    "display(pd.merge(teamrace_agg,\n",
    "                         results,\n",
    "                         on = [\"raceId\",\"constructorId\"],\n",
    "                         how = \"left\"))\n",
    "\n",
    "\n",
    "\n",
>>>>>>> Stashed changes
    "\n"
   ]
  }
 ],
 "metadata": {
  "kernelspec": {
   "display_name": "base",
   "language": "python",
   "name": "python3"
  },
  "language_info": {
   "codemirror_mode": {
    "name": "ipython",
    "version": 3
   },
   "file_extension": ".py",
   "mimetype": "text/x-python",
   "name": "python",
   "nbconvert_exporter": "python",
   "pygments_lexer": "ipython3",
   "version": "3.7.11"
  },
  "orig_nbformat": 4,
  "vscode": {
   "interpreter": {
    "hash": "45fc1f684f6f416f40889115beff3ddf69879b64cf4bfee48cb72a61e9d15d1a"
   }
  }
 },
 "nbformat": 4,
 "nbformat_minor": 2
}
