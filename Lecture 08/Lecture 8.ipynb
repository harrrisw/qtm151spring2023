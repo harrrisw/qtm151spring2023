{
 "cells": [
  {
   "attachments": {},
   "cell_type": "markdown",
   "metadata": {},
   "source": [
    "# <span style=\"color:darkblue\"> Lecture 8: User-defined Functions </span>"
   ]
  },
  {
   "attachments": {},
   "cell_type": "markdown",
   "metadata": {},
   "source": [
    "## <span style=\"color:darkblue\"> I. Import Libraries </span>"
   ]
  },
  {
   "cell_type": "code",
   "execution_count": 1,
   "metadata": {},
   "outputs": [],
   "source": [
    "# the \"numPy\" library is used for mathematical operations\n",
    "# the \"matplotlib\" library is for generating graphs\n",
    "# the \"pandas\" library is for manipualting datasets\n",
    "\n",
    "import numpy as np\n",
    "import matplotlib.pyplot as plt\n",
    "import pandas as pd\n"
   ]
  },
  {
   "attachments": {},
   "cell_type": "markdown",
   "metadata": {},
   "source": [
    "## <span style=\"color:darkblue\"> II. Introduction to Functions </span>"
   ]
  },
  {
   "attachments": {},
   "cell_type": "markdown",
   "metadata": {},
   "source": [
    "<font size=\"5\"> \n",
    "\n",
    "A function is ...\n",
    "\n",
    "- a **block of reusable** code to perform a a specific task\n",
    "- Functions avoid repetition\n",
    "- As our code grows larger, functions make it more manageable\n",
    "\n"
   ]
  },
  {
   "attachments": {},
   "cell_type": "markdown",
   "metadata": {},
   "source": [
    "<font size=\"5\"> \n",
    "\n",
    "\"Built-in\" functions are those from Python libraries, e.g.\n",
    "\n",
    "```print()```, ```type()```, ```round()```,```abs()```, ```len()```\n",
    "\n",
    "- The \"arguments\" are the values of the inputs\n",
    "- The \"return\" is the output\n"
   ]
  },
  {
   "cell_type": "code",
   "execution_count": 2,
   "metadata": {},
   "outputs": [
    {
     "name": "stdout",
     "output_type": "stream",
     "text": [
      "Hello\n"
     ]
    }
   ],
   "source": [
    "# Argument:   \"Hello\" \n",
    "# Return:     Showing the message on screen\n",
    "\n",
    "print(\"Hello\")\n"
   ]
  },
  {
   "cell_type": "code",
   "execution_count": 3,
   "metadata": {},
   "outputs": [
    {
     "data": {
      "text/plain": [
       "float"
      ]
     },
     "execution_count": 3,
     "metadata": {},
     "output_type": "execute_result"
    }
   ],
   "source": [
    "# Argument:  3.14\n",
    "# Return:    The type of object, e.g. int, str, boolean, float, etc.\n",
    "\n",
    "type(3.14)\n"
   ]
  },
  {
   "cell_type": "code",
<<<<<<< Updated upstream
   "execution_count": 6,
=======
   "execution_count": 4,
>>>>>>> Stashed changes
   "metadata": {},
   "outputs": [
    {
     "data": {
      "text/plain": [
       "3.142"
      ]
     },
<<<<<<< Updated upstream
     "execution_count": 6,
=======
     "execution_count": 4,
>>>>>>> Stashed changes
     "metadata": {},
     "output_type": "execute_result"
    }
   ],
   "source": [
    "# First Argument:   np.pi     (a numeric value)\n",
    "# Second Argument:  6         (the number of decimals)\n",
    "# Return:  Round the first argument, given the number of decimals in the second argument\n",
    "\n",
    "round(np.pi,  3)\n"
   ]
  },
  {
   "cell_type": "code",
<<<<<<< Updated upstream
   "execution_count": 9,
=======
   "execution_count": 5,
>>>>>>> Stashed changes
   "metadata": {},
   "outputs": [
    {
     "data": {
      "text/plain": [
       "7"
      ]
     },
<<<<<<< Updated upstream
     "execution_count": 9,
=======
     "execution_count": 5,
>>>>>>> Stashed changes
     "metadata": {},
     "output_type": "execute_result"
    }
   ],
   "source": [
    "# Argument: -4\n",
    "# Return:   The absolute value\n",
    "abs(7)\n"
   ]
  },
  {
   "cell_type": "code",
<<<<<<< Updated upstream
   "execution_count": null,
   "metadata": {},
   "outputs": [],
=======
   "execution_count": 6,
   "metadata": {},
   "outputs": [
    {
     "data": {
      "text/plain": [
       "3"
      ]
     },
     "execution_count": 6,
     "metadata": {},
     "output_type": "execute_result"
    }
   ],
>>>>>>> Stashed changes
   "source": [
    "list_fruits = [\"Apple\",\"Orange\",\"Pear\"]\n",
    "\n",
    "# Argument: list_fruits\n",
    "# Return:   The number of elements in the list\n",
    "len(list_fruits)"
   ]
  },
  {
   "attachments": {},
   "cell_type": "markdown",
   "metadata": {},
   "source": [
    "<font size = \"5\">\n",
    "\n",
    "Enter arguments by assigning parameters"
   ]
  },
  {
   "cell_type": "code",
<<<<<<< Updated upstream
   "execution_count": null,
=======
   "execution_count": 7,
>>>>>>> Stashed changes
   "metadata": {},
   "outputs": [],
   "source": [
    "# Here \"df\" and \"size\" are both parameters\n",
    "# The y get assigned the arguments \"2\" and \"20\", respectively\n",
    "# The return is a vector of random variables\n",
    "\n",
    "vec_x = np.random.chisquare(df = 2, size = 20)\n"
   ]
  },
  {
   "cell_type": "code",
<<<<<<< Updated upstream
   "execution_count": null,
=======
   "execution_count": 8,
>>>>>>> Stashed changes
   "metadata": {},
   "outputs": [],
   "source": [
    "vec_y = np.random.normal(loc = 2, scale = 5, size = 20)\n",
    "vec_z = np.random.uniform(low = -2, high =2, size = 50)"
   ]
  },
  {
   "attachments": {},
   "cell_type": "markdown",
   "metadata": {},
   "source": [
    "<font size = \"5\">\n",
    "\n",
    "Discussion:\n",
    "\n",
    "- What are the parameters, arguments, and returns above?\n"
   ]
  },
  {
   "attachments": {},
   "cell_type": "markdown",
   "metadata": {},
   "source": [
    "## <span style=\"color:darkblue\"> III. Custom Functions </span>"
   ]
  },
  {
   "attachments": {},
   "cell_type": "markdown",
   "metadata": {},
   "source": [
    "<font size = \"5\">\n",
    "\n",
    "You can write your own functions:\n",
    "\n",
    "```python\n",
    "\n",
    "    #---- DEFINE\n",
    "    def my_function(parameter):\n",
    "        body\n",
    "        return expression\n",
    "\n",
    "    #---- RUN\n",
    "    my_function(parameter = argument) \n",
    "\n",
    "    #---- RUN\n",
    "    my_function(argument)\n",
    "```\n",
    "<br>"
   ]
  },
  {
   "attachments": {},
   "cell_type": "markdown",
   "metadata": {},
   "source": [
    "<font size = \"5\">\n",
    "\n",
    "Example: Calculate\n",
    "\n",
    "$V=P\\left(1+{\\frac {r}{n}}\\right)^{nt}$\n",
    "\n",
    "\n"
   ]
  },
  {
   "cell_type": "code",
<<<<<<< Updated upstream
   "execution_count": 11,
=======
   "execution_count": 9,
>>>>>>> Stashed changes
   "metadata": {},
   "outputs": [],
   "source": [
    "# We are going to define a function \"fn_compute_value\"\n",
    "# You can choose any name\n",
    "# Using prefixes like \"fn_\" can help you remember this is a \"function\" object\n",
    "# The parameters are \n",
    "\n",
    "def fn_compute_value(P,r,n,t):\n",
    "    V = P*(1 + r/n)**(n*t)\n",
    "    return(V)"
   ]
  },
  {
   "cell_type": "code",
<<<<<<< Updated upstream
   "execution_count": 12,
=======
   "execution_count": 10,
>>>>>>> Stashed changes
   "metadata": {},
   "outputs": [
    {
     "name": "stdout",
     "output_type": "stream",
     "text": [
      "1105.1432983541217\n",
      "11.051432983541218\n"
     ]
    }
   ],
   "source": [
    "# You can know compute the formula with different values\n",
    "\n",
    "V1 = fn_compute_value(P = 1000, r = 0.01, n = 20, t=10)\n",
    "V2 = fn_compute_value(P = 10, r = 0.01, n = 20, t=10)\n",
    "\n",
    "print(V1)\n",
    "print(V2)\n"
   ]
  },
  {
   "attachments": {},
   "cell_type": "markdown",
   "metadata": {},
   "source": [
    "<font size = \"5\">\n",
    "\n",
    "Try it yourself:\n",
    "\n",
    "- Write a function that calculates $f(x) = x^2 + 2x + 1$."
   ]
  },
  {
   "cell_type": "code",
<<<<<<< Updated upstream
   "execution_count": 16,
=======
   "execution_count": 11,
>>>>>>> Stashed changes
   "metadata": {},
   "outputs": [
    {
     "name": "stdout",
     "output_type": "stream",
     "text": [
      "1\n",
      "9\n",
      "121\n",
      "4\n"
     ]
    }
   ],
   "source": [
    "# Write your own code here\n",
    "\n",
<<<<<<< Updated upstream
    "def fn_compute_value1(x):\n",
    "    f_x = x**2 + 2*x + 1\n",
    "    return(f_x)\n",
=======
    "def f(x):\n",
    "    return(x**2+2*x+1)\n",
>>>>>>> Stashed changes
    "\n",
    "V3 = fn_compute_value1(1)\n",
    "\n",
    "print(fn_compute_value1(0))\n",
    "print(fn_compute_value1(2))\n",
    "print(fn_compute_value1(10))\n",
    "\n",
    "print(V3)\n"
   ]
  },
  {
   "attachments": {},
   "cell_type": "markdown",
   "metadata": {},
   "source": [
    "<font size = \"5\">\n",
    "\n",
    "Try it yourself: Write a function\n",
    "\n",
    "- with a parameter \"numeric_grade\"\n",
    "- Inside the function write an if/else statement for grade $\\ge 55$.\n",
    "- If it's true, then assign \"status = pass\"\n",
    "- If it's false, then assign \"status = fail\"\n",
    "- Return the value of \"status\""
   ]
  },
  {
   "cell_type": "code",
   "execution_count": 12,
   "metadata": {},
   "outputs": [],
   "source": [
    "# Write your own code\n",
    "\n",
    "def lettergrade(numeric_grade):\n",
    "    return(numeric_grade>=55)\n",
    "\n",
    "\n",
    "\n",
    "\n"
   ]
  },
  {
   "attachments": {},
   "cell_type": "markdown",
   "metadata": {},
   "source": [
    "<font size = \"5\">\n",
    "\n",
    "Try it yourself! Write a function \n",
    "- Write a function with parameters \"first_name\", \"last_name\", \"car_model\"\n",
    "- Return a message saying:\n",
    "\n",
    "\"Dear customer {first_name} {last_name}, your car model {car_model} is ready\" \n",
    "\n",
    "\n",
    "\n"
   ]
  },
  {
   "cell_type": "code",
<<<<<<< Updated upstream
   "execution_count": null,
=======
   "execution_count": 17,
>>>>>>> Stashed changes
   "metadata": {},
   "outputs": [
    {
     "name": "stdout",
     "output_type": "stream",
     "text": [
      "Dear customer d w, your car model d is ready\n"
     ]
    }
   ],
   "source": [
    "# Write your own code\n",
    "\n",
    "def notif(first_name,last_name,car_model):\n",
    "    return(\"Dear customer {} {}, your car model {} is ready\".format(first_name,last_name,car_model) )\n",
    "\n",
    "\n",
    "print(notif(\"d\",\"w\",\"d\"))\n",
    "\n"
   ]
  },
  {
   "attachments": {},
   "cell_type": "markdown",
   "metadata": {},
   "source": [
    "## <span style=\"color:darkblue\"> III. Lambda Functions </span>\n",
    "\n",
    "<font size = \"5\">\n",
    "\n",
    "\"Lambda Functions\" are defined in one line:\n",
    "\n",
    "```python\n",
    "my_function = lambda parameters: expression\n",
    "```"
   ]
  },
  {
   "attachments": {},
   "cell_type": "markdown",
   "metadata": {},
   "source": [
    "<font size = \"5\">\n",
    "\n",
    "Example: Calculate $x + y + z$"
   ]
  },
  {
   "cell_type": "code",
<<<<<<< Updated upstream
   "execution_count": null,
   "metadata": {},
   "outputs": [],
=======
   "execution_count": 18,
   "metadata": {},
   "outputs": [
    {
     "data": {
      "text/plain": [
       "6"
      ]
     },
     "execution_count": 18,
     "metadata": {},
     "output_type": "execute_result"
    }
   ],
>>>>>>> Stashed changes
   "source": [
    "# (a) Define function\n",
    "fn_sum = lambda x,y,z: x + y + z\n",
    "\n",
    "# (b) Run function\n",
    "fn_sum(1,2,3)"
   ]
  },
  {
   "attachments": {},
   "cell_type": "markdown",
   "metadata": {},
   "source": [
    "<font size = \"5\"> Example: Calculate\n",
    "\n",
    "$V=P\\left(1+{\\frac {r}{n}}\\right)^{nt}$\n"
   ]
  },
  {
   "cell_type": "code",
<<<<<<< Updated upstream
   "execution_count": null,
=======
   "execution_count": 19,
>>>>>>> Stashed changes
   "metadata": {},
   "outputs": [],
   "source": [
    "fn_compute_value =  lambda P,r,n,t: P*(1 + r/n)**(n*t)"
   ]
  },
  {
   "cell_type": "code",
<<<<<<< Updated upstream
   "execution_count": null,
=======
   "execution_count": 20,
>>>>>>> Stashed changes
   "metadata": {},
   "outputs": [],
   "source": [
    "V1 = fn_compute_value(P = 1000, r = 0.01, n = 20, t=10)\n",
    "V2 = fn_compute_value(P = 10, r = 0.01, n = 20, t=10)\n",
    "\n",
    "print(V1)\n",
    "print(V2)\n"
   ]
  },
  {
   "attachments": {},
   "cell_type": "markdown",
   "metadata": {},
   "source": [
    "<font size = \"5\">\n",
    "\n",
    "Try it yourself!\n",
    "\n",
    "(a) Boleean + Functions\n",
    "\n",
    "- Write a function called \"fn_iseligible_vote\"\n",
    "- This functions returns a boolean value that checks whether age $\\ge$ 18"
   ]
  },
  {
   "cell_type": "code",
<<<<<<< Updated upstream
   "execution_count": null,
=======
   "execution_count": 21,
>>>>>>> Stashed changes
   "metadata": {},
   "outputs": [],
   "source": [
    "# Write your own code\n",
    "\n",
    "def fn_iseligible_vote(age):\n",
    "    return(age>=18)\n",
    "\n",
    "\n"
   ]
  },
  {
   "attachments": {},
   "cell_type": "markdown",
   "metadata": {},
   "source": [
    "<font size = \"5\">\n",
    "\n",
    "(b) Looping  + Functions\n",
    "\n",
    "- Create list_ages = [18,29,15,32,6]\n",
    "- Write a loop that checks whether above ages are eligible to vote\n",
    "- Use the above function"
   ]
  },
  {
   "cell_type": "code",
   "execution_count": 29,
   "metadata": {},
   "outputs": [
    {
     "name": "stdout",
     "output_type": "stream",
     "text": [
      "True\n",
      "True\n",
      "False\n",
      "True\n",
      "False\n"
     ]
    }
   ],
   "source": [
    "# Write your own code\n",
    "\n",
    "list_ages = [18,29,15,32,6]\n",
    "for x in list_ages:\n",
    "    fn_iseligible_vote=lambda x:x>=18\n",
    "    print(fn_iseligible_vote(x))\n",
    "\n",
    "\n"
   ]
  },
  {
   "attachments": {},
   "cell_type": "markdown",
   "metadata": {},
   "source": [
    "## <span style=\"color:darkblue\"> IV. (Optional) Functions for visualization </span>\n",
    "\n",
    "<font size = \"5\">\n",
    "Returning a value is not always necesary, you can write:\n",
    "\n",
    "```python\n",
    "\n",
    "    #---- DEFINE\n",
    "    def my_function(parameter):\n",
    "        body\n",
    "```"
   ]
  },
  {
   "attachments": {},
   "cell_type": "markdown",
   "metadata": {},
   "source": [
    "<font size = \"5\">\n",
    "\n",
    "Example: A customized plot\n",
    "\n",
    "- You can use functions to store your favorite aesthetic"
   ]
  },
  {
   "cell_type": "code",
<<<<<<< Updated upstream
   "execution_count": null,
   "metadata": {},
   "outputs": [],
=======
   "execution_count": 23,
   "metadata": {},
   "outputs": [
    {
     "data": {
      "image/png": "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",
      "text/plain": [
       "<Figure size 432x288 with 1 Axes>"
      ]
     },
     "metadata": {
      "needs_background": "light"
     },
     "output_type": "display_data"
    },
    {
     "data": {
      "image/png": "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",
      "text/plain": [
       "<Figure size 432x288 with 1 Axes>"
      ]
     },
     "metadata": {
      "needs_background": "light"
     },
     "output_type": "display_data"
    }
   ],
>>>>>>> Stashed changes
   "source": [
    "# Define the function\n",
    "def red_histogram(vec_x,title):\n",
    "    plt.hist(x = vec_x, color = \"red\")\n",
    "    plt.title(title)\n",
    "    plt.ylabel(\"Frequency\")\n",
    "    plt.show()\n",
    "\n",
    "carfeatures = pd.read_csv(\"data/features.csv\")\n",
    "\n",
    "red_histogram(vec_x = carfeatures[\"weight\"], title = \"Histogram\")\n",
    "red_histogram(vec_x = carfeatures[\"acceleration\"], title = \"Histogram\")\n"
   ]
  },
  {
   "attachments": {},
   "cell_type": "markdown",
   "metadata": {},
   "source": [
    "<font size = \"5\">\n",
    "\n",
    "Try it yourself!\n",
    "\n",
    "Create a function that computes a red scatter plot that takes $y$ and $x$ inputs"
   ]
  },
  {
   "cell_type": "code",
<<<<<<< Updated upstream
   "execution_count": null,
=======
   "execution_count": 24,
>>>>>>> Stashed changes
   "metadata": {},
   "outputs": [
    {
     "data": {
      "image/png": "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",
      "text/plain": [
       "<Figure size 432x288 with 1 Axes>"
      ]
     },
     "metadata": {
      "needs_background": "light"
     },
     "output_type": "display_data"
    }
   ],
   "source": [
    "# Write your own code\n",
    "\n",
    "\n",
    "\n",
    "def red_scatterplot(vec_x,vec_y,title):\n",
    "    plt.scatter(x = vec_x,y = vec_y, color = \"red\")\n",
    "    plt.title(title)\n",
    "    plt.xlabel(\"weight\")\n",
    "    plt.ylabel(\"acceleration\")\n",
    "    plt.show()\n",
    "\n",
    "carfeatures = pd.read_csv(\"data/features.csv\")\n",
    "\n",
    "red_scatterplot(vec_x = carfeatures[\"weight\"],vec_y = carfeatures[\"acceleration\"],title = \"scatterplot\")\n",
    "\n",
    "\n",
    "\n",
    "\n"
   ]
  }
 ],
 "metadata": {
  "kernelspec": {
   "display_name": "base",
   "language": "python",
   "name": "python3"
  },
  "language_info": {
   "codemirror_mode": {
    "name": "ipython",
    "version": 3
   },
   "file_extension": ".py",
   "mimetype": "text/x-python",
   "name": "python",
   "nbconvert_exporter": "python",
   "pygments_lexer": "ipython3",
   "version": "3.7.11"
  },
  "orig_nbformat": 4,
  "vscode": {
   "interpreter": {
    "hash": "90578f7affb954f5da612c485ce821968af3a104963948a9da0272ee3e0b8a24"
   }
  }
 },
 "nbformat": 4,
 "nbformat_minor": 2
}
