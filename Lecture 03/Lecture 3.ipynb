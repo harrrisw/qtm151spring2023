{
 "cells": [
  {
   "attachments": {},
   "cell_type": "markdown",
   "metadata": {},
   "source": [
    "# <span style=\"color:darkblue\"> Lecture 3: Mathematical Operations and Random Numbers </span>"
   ]
  },
  {
   "attachments": {},
   "cell_type": "markdown",
   "metadata": {},
   "source": [
    "<font size=\"5\"> \n",
    "\n",
    "In the previous class we:\n",
    "- Introduced lists and variable types\n",
    "- Talked about how to extract elements from a list"
   ]
  },
  {
   "attachments": {},
   "cell_type": "markdown",
   "metadata": {},
   "source": [
    "<font size=\"5\"> \n",
    "\n",
    "In this class we will:\n",
    "\n",
    "- Introduce a library for general mathematical operations\n",
    "- Generate random numbers\n",
    "- (Optional) Matrix operations"
   ]
  },
  {
   "attachments": {},
   "cell_type": "markdown",
   "metadata": {},
   "source": [
    "## <span style=\"color:darkblue\"> I. Import Libraries </span>"
   ]
  },
  {
   "cell_type": "code",
   "execution_count": 2,
   "metadata": {},
   "outputs": [],
   "source": [
    "# the \"numPy\" library is used for mathematical operations\n",
    "# the \"matplotlib\" library is for generating graphs\n",
    "\n",
    "import numpy as np\n",
    "import matplotlib.pyplot as plt\n"
   ]
  },
  {
   "attachments": {},
   "cell_type": "markdown",
   "metadata": {},
   "source": [
    "##  <span style=\"color:darkblue\"> II. Numbers and Functions </span>"
   ]
  },
  {
   "attachments": {},
   "cell_type": "markdown",
   "metadata": {},
   "source": [
    "<font size = \"5\" >\n",
    "Examples of numPy numbers"
   ]
  },
  {
   "cell_type": "code",
   "execution_count": 3,
   "metadata": {},
   "outputs": [
    {
     "data": {
      "text/plain": [
       "3.141592653589793"
      ]
     },
     "execution_count": 3,
     "metadata": {},
     "output_type": "execute_result"
    }
   ],
   "source": [
    "# Computes \"pi\" (3.14...)\n",
    "\n",
    "np.pi"
   ]
  },
  {
   "attachments": {},
   "cell_type": "markdown",
   "metadata": {},
   "source": [
    "<font size = \"5\" >\n",
    "\n",
    "Examples of numPy functions\n",
    "\n",
    "$ ln(x), e^x, sin(x), cos(x), \\sqrt{x}$"
   ]
  },
  {
   "cell_type": "code",
   "execution_count": 5,
   "metadata": {},
   "outputs": [
    {
     "name": "stdout",
     "output_type": "stream",
     "text": [
      "0.0\n",
      "2.718281828459045\n",
      "0.8414709848078965\n",
      "0.5403023058681398\n",
      "1.0\n"
     ]
    }
   ],
   "source": [
    "# log(x) computes the logarithm with base \"e\" (Euler constant)\n",
    "# exp(x) compute the Euler constant raised to the power of \"x\"\n",
    "# sing(x) computes the sine of x\n",
    "# cos(x) computes the cosine of x\n",
    "# In this example, we're substituting x = 1\n",
    "\n",
    "print(np.log(1))\n",
    "print(np.exp(1))\n",
    "print(np.sin(1))\n",
    "print(np.cos(1))\n",
    "print(np.sqrt(1))"
   ]
  },
  {
   "attachments": {},
   "cell_type": "markdown",
   "metadata": {},
   "source": [
    "<font size = \"5\">\n",
    "\n",
    "Try it yourself!\n",
    "\n",
    "- Create a new variable, $x = 5$\n",
    "- Compute $\\pi x^2$\n",
    "- Compute $ \\frac{1}{\\sqrt{2\\pi}}e^{-x^2} $"
   ]
  },
  {
   "cell_type": "code",
   "execution_count": 6,
   "metadata": {},
   "outputs": [
    {
     "data": {
      "text/plain": [
       "5.540487995575833e-12"
      ]
     },
     "execution_count": 6,
     "metadata": {},
     "output_type": "execute_result"
    }
   ],
   "source": [
    "# Include your answer here:\n",
    "\n",
    "x=5\n",
    "\n",
    "np.pi*(x**2)\n",
    "\n",
    "(1/np.sqrt(2*np.pi)*np.exp(-x**2))\n",
    "\n",
    "\n"
   ]
  },
  {
   "attachments": {},
   "cell_type": "markdown",
   "metadata": {},
   "source": [
    "##  <span style=\"color:darkblue\"> III. Vector Arrays </span>"
   ]
  },
  {
   "attachments": {},
   "cell_type": "markdown",
   "metadata": {},
   "source": [
    "<font size = \"5\">\n",
    "Create an array from a list\n",
    "\n",
    "$ \\text{ }$\n",
    "$ a = \\begin{pmatrix} 1 \\\\ 2 \\\\ 3 \\end{pmatrix}\n",
    "\\qquad b = \\begin{pmatrix} 0 \\\\ 1 \\\\ 0\\end{pmatrix}\n",
    "\\qquad c = \\begin{pmatrix} 10 \\\\ 100 \\\\ 1000 \\\\ 2000 \\\\ 5000 \\end{pmatrix} \n",
    "\\qquad d = \\begin{pmatrix} 4 \\\\ 2 \\end{pmatrix} $"
   ]
  },
  {
   "cell_type": "code",
   "execution_count": 7,
   "metadata": {},
   "outputs": [],
   "source": [
    "# You create an array by converting a list [1,2,3] to a numeric object\n",
    "# \"array\" is a subfunction of the library numPy.\n",
    "\n",
    "vec_a  = np.array([1,2,3])\n",
    "vec_b  = np.array([0,1,0])\n",
    "vec_c  = np.array([10,100,1000,2000,5000])\n"
   ]
  },
  {
   "attachments": {},
   "cell_type": "markdown",
   "metadata": {},
   "source": [
    "<font size = \"5\">\n",
    "\n",
    "Accessing an element of an array"
   ]
  },
  {
   "cell_type": "code",
   "execution_count": 8,
   "metadata": {},
   "outputs": [
    {
     "name": "stdout",
     "output_type": "stream",
     "text": [
      "1\n",
      "3\n"
     ]
    }
   ],
   "source": [
    "# Arrays, like lists, start their numbering at zero.\n",
    "# You also access them with square brackets\n",
    "\n",
    "print(vec_a[0])\n",
    "print(vec_a[2])\n"
   ]
  },
  {
   "attachments": {},
   "cell_type": "markdown",
   "metadata": {},
   "source": [
    "<font size = \"5\">\n",
    "Operations with a single array and a scalar"
   ]
  },
  {
   "attachments": {},
   "cell_type": "markdown",
   "metadata": {},
   "source": [
    "<font size = \"5\">\n",
    "\n",
    "$ a + 2 = \\begin{pmatrix} a_1 + 2 \\\\ a_2 + 2 \\\\ a_3 + 2 \\end{pmatrix}$"
   ]
  },
  {
   "cell_type": "code",
   "execution_count": 9,
   "metadata": {},
   "outputs": [
    {
     "name": "stdout",
     "output_type": "stream",
     "text": [
      "[2 4 6]\n",
      "[0.5 1.  1.5]\n",
      "[3 4 5]\n",
      "[1 4 9]\n"
     ]
    }
   ],
   "source": [
    "# A scalar refers to either an int or float\n",
    "# We can do many common operations with \n",
    "\n",
    "print(vec_a * 2)\n",
    "print(vec_a / 2)\n",
    "print(vec_a + 2)\n",
    "print(vec_a ** 2)"
   ]
  },
  {
   "attachments": {},
   "cell_type": "markdown",
   "metadata": {},
   "source": [
    "<font size = \"5\">\n",
    "Element-by-element addition between two arrays of the same size\n",
    "\n",
    "$\\text{ }$\n",
    "\n",
    "$ a + b = \\begin{pmatrix} a_1 \\\\ a_2 \\\\ a_3 \\end{pmatrix} +\n",
    "          \\begin{pmatrix} b_1 \\\\ b_2 \\\\ b_3 \\end{pmatrix} =\n",
    "          \\begin{pmatrix} a_1 + b_1 \\\\ a_2 + b_2 \\\\ a_3 + b_3 \\end{pmatrix}$"
   ]
  },
  {
   "cell_type": "code",
   "execution_count": 10,
   "metadata": {},
   "outputs": [
    {
     "name": "stdout",
     "output_type": "stream",
     "text": [
      "[1 3 3]\n"
     ]
    }
   ],
   "source": [
    "# When you add two arrays of the same size,\n",
    "# Python adds the individual elements in each position\n",
    "\n",
    "print(vec_a + vec_b)\n"
   ]
  },
  {
   "attachments": {},
   "cell_type": "markdown",
   "metadata": {},
   "source": [
    "<font size =\"5\">\n",
    "\n",
    "The default multiplication option is element-by element:\n",
    "\n",
    "$ a * b = \\begin{pmatrix} a_1 * b_1 \\\\ a_2 * b_2 \\\\ a_3 * b_3 \\end{pmatrix}$"
   ]
  },
  {
   "cell_type": "code",
   "execution_count": 11,
   "metadata": {},
   "outputs": [
    {
     "name": "stdout",
     "output_type": "stream",
     "text": [
      "[0 2 0]\n",
      "[1 1 3]\n",
      "[inf  2. inf]\n"
     ]
    },
    {
     "name": "stderr",
     "output_type": "stream",
     "text": [
      "c:\\Users\\hahaha\\anaconda3\\lib\\site-packages\\ipykernel_launcher.py:6: RuntimeWarning: divide by zero encountered in true_divide\n",
      "  \n"
     ]
    }
   ],
   "source": [
    "# We can do other similar element-by-element operations\n",
    "# such as multiplication, subtraction, and division.\n",
    "\n",
    "print(vec_a * vec_b)\n",
    "print(vec_a - vec_b)\n",
    "print(vec_a / vec_b)\n"
   ]
  },
  {
   "attachments": {},
   "cell_type": "markdown",
   "metadata": {},
   "source": [
    "<font size = \"5\">\n",
    "Summary statistics of an array"
   ]
  },
  {
   "cell_type": "code",
   "execution_count": 12,
   "metadata": {},
   "outputs": [
    {
     "name": "stdout",
     "output_type": "stream",
     "text": [
      "2.0\n",
      "0.816496580927726\n",
      "1\n",
      "2.0\n",
      "3\n"
     ]
    }
   ],
   "source": [
    "# The function np.mean() computes the mean of an array\n",
    "# We can do similar operations for the standard deviation (std),\n",
    "# the minimum (min), the median (median), and the maximum (max).\n",
    "\n",
    "print(np.mean(vec_a))\n",
    "print(np.std(vec_a))\n",
    "print(np.min(vec_a))\n",
    "print(np.median(vec_a))\n",
    "print(np.max(vec_a))"
   ]
  },
  {
   "attachments": {},
   "cell_type": "markdown",
   "metadata": {},
   "source": [
    "<font size = \"5\">\n",
    "\n",
    "Try it yourself! Compute the mean of\n",
    "\n",
    "\n",
    "$ e = \\begin{pmatrix} 10 \\\\ 8 \\\\ 15 \\\\ 0 \\\\ 24 \\end{pmatrix} $"
   ]
  },
  {
   "cell_type": "code",
   "execution_count": 13,
   "metadata": {},
   "outputs": [
    {
     "name": "stdout",
     "output_type": "stream",
     "text": [
      "11.4\n",
      "7.939773296511683\n",
      "0\n",
      "10.0\n",
      "24\n"
     ]
    }
   ],
   "source": [
    "# Create your own array and compute any of the above summary statistics\n",
    "\n",
    "vec_e  = np.array([10,8,15,0,24])\n",
    "print(np.mean(vec_e))\n",
    "print(np.std(vec_e))\n",
    "print(np.min(vec_e))\n",
    "print(np.median(vec_e))\n",
    "print(np.max(vec_e))\n",
    "\n",
    "\n",
    "\n"
   ]
  },
  {
   "attachments": {},
   "cell_type": "markdown",
   "metadata": {},
   "source": [
    "<font size = \"5\">\n",
    "<span style=\"color:red\"> Common Pitfall </span>: Make sure that the arrays have the same size"
   ]
  },
  {
   "cell_type": "code",
   "execution_count": 14,
   "metadata": {},
   "outputs": [
    {
     "ename": "ValueError",
     "evalue": "operands could not be broadcast together with shapes (3,) (5,) ",
     "output_type": "error",
     "traceback": [
      "\u001b[0;31m---------------------------------------------------------------------------\u001b[0m",
      "\u001b[0;31mValueError\u001b[0m                                Traceback (most recent call last)",
      "Cell \u001b[0;32mIn[14], line 3\u001b[0m\n\u001b[1;32m      1\u001b[0m \u001b[39m# Here I try to combine two arrays of different size.\u001b[39;00m\n\u001b[0;32m----> 3\u001b[0m vec_a \u001b[39m+\u001b[39;49m vec_c\n",
      "\u001b[0;31mValueError\u001b[0m: operands could not be broadcast together with shapes (3,) (5,) "
     ]
    }
   ],
   "source": [
    "# Here I try to combine two arrays of different size.\n",
    "\n",
    "vec_a + vec_c"
   ]
  },
  {
   "attachments": {},
   "cell_type": "markdown",
   "metadata": {},
   "source": [
    "##  <span style=\"color:darkblue\"> IV. Random Numbers </span>\n",
    "\n",
    "<font size = \"5\">\n",
    "\n",
    "Why randomness?\n",
    "\n",
    "- Simulate different scenarios: high risk or low risk\n",
    "- Study properties of a complex system and/or estimator\n",
    "- In medicine, randomly assign subjects to treatment or control"
   ]
  },
  {
   "attachments": {},
   "cell_type": "markdown",
   "metadata": {},
   "source": [
    "<font size = \"5\">\n",
    "\n",
    "Create a vector of random variables"
   ]
  },
  {
   "cell_type": "code",
   "execution_count": 14,
   "metadata": {},
   "outputs": [
    {
     "name": "stdout",
     "output_type": "stream",
     "text": [
      "[-0.461077   -0.99761022 -0.22572201  0.1941383   1.09276689  0.89289174\n",
      " -0.28223744  0.1531213   0.42152613 -0.23791321]\n"
     ]
    }
   ],
   "source": [
    "# This code creates a vector of random variables \n",
    "# generated from a normal distribution with\n",
    "# mean \"loc\" (location) and standard deviation \"scale\"\n",
    "# the number of distinct variabels is \"size\"\n",
    "\n",
    "randomvar_a = np.random.normal(loc=0, scale=1, size=10)\n",
    "print(randomvar_a)"
   ]
  },
  {
   "attachments": {},
   "cell_type": "markdown",
   "metadata": {},
   "source": [
    "<font size = \"5\">\n",
    "\n",
    "Random numbers differ every time!\n",
    "\n",
    "- Avoid this problem by drawing from a \"pregenerated\" set.\n",
    "- This is called a seed"
   ]
  },
  {
   "cell_type": "code",
   "execution_count": 15,
   "metadata": {},
   "outputs": [
    {
     "name": "stdout",
     "output_type": "stream",
     "text": [
      "[-0.20470766  0.47894334 -0.51943872 -0.5557303   1.96578057  1.39340583\n",
      "  0.09290788  0.28174615  0.76902257  1.24643474]\n"
     ]
    }
   ],
   "source": [
    "# Your computer will typically generate different numbers every time you run a command\n",
    "# However, sometimes you want to be able to replicate the results\n",
    "# You can choose any other number instead of \"12345\". This will produce another set\n",
    "# of random numbers, but they will give the same answers\n",
    "\n",
    "np.random.seed(12345)\n",
    "\n",
    "random_var_b = np.random.normal(loc=0, scale=1, size=10)\n",
    "print(random_var_b)"
   ]
  },
  {
   "attachments": {},
   "cell_type": "markdown",
   "metadata": {},
   "source": [
    "<font size = \"5\">\n",
    "\n",
    "Compute a histogram with the results"
   ]
  },
  {
   "cell_type": "code",
   "execution_count": 16,
   "metadata": {},
   "outputs": [
    {
     "data": {
      "text/plain": [
       "Text(0, 0.5, 'Frequency')"
      ]
     },
     "execution_count": 16,
     "metadata": {},
     "output_type": "execute_result"
    },
    {
     "data": {
      "image/png": "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",
      "text/plain": [
       "<Figure size 432x288 with 1 Axes>"
      ]
     },
     "metadata": {
      "needs_background": "light"
     },
     "output_type": "display_data"
    }
   ],
   "source": [
    "# Compute a histogram\n",
    "# You can edit the number of bins with plt.hist(x = randomvar_a)\n",
    "\n",
    "randomvar_x = np.random.normal(loc=0, scale=1, size=10)\n",
    "\n",
    "plt.hist(x = randomvar_x)\n",
    "plt.xlabel(\"Variable a\")\n",
    "plt.ylabel(\"Frequency\")"
   ]
  },
  {
   "attachments": {},
   "cell_type": "markdown",
   "metadata": {},
   "source": [
    "<font size = \"5\">\n",
    "\n",
    "Try this again with $size = 100, 1000, 10000$"
   ]
  },
  {
   "cell_type": "code",
   "execution_count": 19,
   "metadata": {},
   "outputs": [
    {
     "data": {
      "text/plain": [
       "Text(0, 0.5, 'Frequency')"
      ]
     },
     "execution_count": 19,
     "metadata": {},
     "output_type": "execute_result"
    },
    {
     "data": {
      "image/png": "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",
      "text/plain": [
       "<Figure size 432x288 with 1 Axes>"
      ]
     },
     "metadata": {
      "needs_background": "light"
     },
     "output_type": "display_data"
    }
   ],
   "source": [
    "# Write the code for your histogram\n",
    "\n",
    "\n",
    "randomvar_x = np.random.normal(loc=0, scale=1, size=10000)\n",
    "\n",
    "plt.hist(x = randomvar_x)\n",
    "plt.xlabel(\"Variable a\")\n",
    "plt.ylabel(\"Frequency\")\n"
   ]
  },
  {
   "attachments": {},
   "cell_type": "markdown",
   "metadata": {},
   "source": [
    "# <span style=\"color:darkblue\"> Additional Resources </span>\n",
    "\n",
    "<font size=\"5\"> \n",
    "\n",
    "Check out additional examples at:\n",
    "\n",
    "- https://allendowney.github.io/ElementsOfDataScience/03_arrays.html\n",
    "\n",
    "\n"
   ]
  },
  {
   "attachments": {},
   "cell_type": "markdown",
   "metadata": {},
   "source": [
    "# <span style=\"color:darkblue\"> (Optional) Matrix Operations </span>\n",
    "\n",
    "<font size=\"5\"> \n"
   ]
  },
  {
   "attachments": {},
   "cell_type": "markdown",
   "metadata": {},
   "source": [
    "<font size = \"5\">\n",
    "Creating a matrix by stacking different rows\n",
    "\n",
    "$ \\text{ }$\n",
    "\n",
    "$ X = \\begin{pmatrix} 1 & 2 & 3 \\\\ \n",
    "                       0 & 4 & 5 \\\\\n",
    "                       0 & 0 & 6\n",
    "                       \\end{pmatrix} $"
   ]
  },
  {
   "cell_type": "code",
   "execution_count": 13,
   "metadata": {},
   "outputs": [
    {
     "name": "stdout",
     "output_type": "stream",
     "text": [
      "[[1 2 3]\n",
      " [0 4 5]\n",
      " [0 0 6]]\n"
     ]
    }
   ],
   "source": [
    "# Matrices are usually denoted by capital letters\n",
    "# The object [[1,2,3],[4,5,6],[7,8,9]] is a list of lists\n",
    "# It's useful to maintain this notation in the code as well\n",
    "\n",
    "X = np.array([[1,2,3],[0,4,5],[0,0,6]])\n",
    "print(X)"
   ]
  },
  {
   "attachments": {},
   "cell_type": "markdown",
   "metadata": {},
   "source": [
    "<font size = \"5\">\n",
    "Creating a matrix by stacking different columns\n",
    "\n",
    "$ \\text{ } $\n",
    "\n",
    "$ Y = \\begin{pmatrix} 1 & 2 \\\\ 0 & 1 \\\\ 1 & 0 \\end{pmatrix}$"
   ]
  },
  {
   "cell_type": "code",
   "execution_count": 14,
   "metadata": {},
   "outputs": [
    {
     "name": "stdout",
     "output_type": "stream",
     "text": [
      "[[1 2]\n",
      " [0 1]\n",
      " [1 0]]\n"
     ]
    }
   ],
   "source": [
    "# You can also stack columns\n",
    "Y =  np.column_stack([[1,0,1],[2,1,0]])\n",
    "print(Y)"
   ]
  },
  {
   "attachments": {},
   "cell_type": "markdown",
   "metadata": {},
   "source": [
    "<font size = \"5\">\n",
    "Transpose\n",
    "\n",
    "$ \\text{ }$\n",
    "\n",
    "$ Y' = \\begin{pmatrix}  1 & 0 & 1 \\\\ 2 & 1 & 0  \\end{pmatrix} $"
   ]
  },
  {
   "cell_type": "code",
   "execution_count": 15,
   "metadata": {},
   "outputs": [
    {
     "data": {
      "text/plain": [
       "array([[1, 0, 1],\n",
       "       [2, 1, 0]])"
      ]
     },
     "execution_count": 15,
     "metadata": {},
     "output_type": "execute_result"
    }
   ],
   "source": [
    "# Matrix Transpose\n",
    "np.matrix.transpose(Y)"
   ]
  },
  {
   "attachments": {},
   "cell_type": "markdown",
   "metadata": {},
   "source": [
    "<font size = \"5\">\n",
    "\n",
    "Matrix multiplication\n",
    "\n",
    "$ XY = \\begin{pmatrix} 1 & 2 & 3 \\\\ \n",
    "                       0 & 4 & 5 \\\\\n",
    "                       0 & 0 & 6\n",
    "                       \\end{pmatrix}\n",
    "                       \\begin{pmatrix} 1 & 2 \\\\ 0 & 1 \\\\ 1 & 0 \\end{pmatrix} = \n",
    "        \\begin{pmatrix} 4 & 4 \\\\ 5 & 4 \\\\ 6 & 0 \\end{pmatrix} $"
   ]
  },
  {
   "cell_type": "code",
   "execution_count": 34,
   "metadata": {},
   "outputs": [
    {
     "data": {
      "text/plain": [
       "array([[4, 4],\n",
       "       [5, 4],\n",
       "       [6, 0]])"
      ]
     },
     "execution_count": 34,
     "metadata": {},
     "output_type": "execute_result"
    }
   ],
   "source": [
    "# Matrix Multiplication\n",
    "\n",
    "np.dot(X,Y)\n",
    "\n",
    "np.matmul(X,Y)"
   ]
  },
  {
   "attachments": {},
   "cell_type": "markdown",
   "metadata": {},
   "source": [
    "<font size = \"5\">\n",
    "\n",
    "Matrix inverse\n",
    "\n",
    "$ X^{-1} = \\begin{pmatrix} 1 & 2 & 3 \\\\ \n",
    "                       0 & 4 & 5 \\\\\n",
    "                       0 & 0 & 6\n",
    "                       \\end{pmatrix}^{-1} $"
   ]
  },
  {
   "cell_type": "code",
   "execution_count": 31,
   "metadata": {},
   "outputs": [
    {
     "name": "stdout",
     "output_type": "stream",
     "text": [
      "23.999999999999993\n",
      "[[ 1.         -0.5        -0.08333333]\n",
      " [ 0.          0.25       -0.20833333]\n",
      " [ 0.          0.          0.16666667]]\n",
      "[[ 1.00000000e+00  0.00000000e+00 -2.22044605e-16]\n",
      " [ 0.00000000e+00  1.00000000e+00  0.00000000e+00]\n",
      " [ 0.00000000e+00  0.00000000e+00  1.00000000e+00]]\n"
     ]
    }
   ],
   "source": [
    "# Check the determinant of a matrix (a matrix is invertible if the determinant is not zero)\n",
    "print(np.linalg.det(X))\n",
    "\n",
    "# Matrix inverse\n",
    "# The following command stands for linear algebrar inverse.\n",
    "X_inv = np.linalg.inv(X)\n",
    "\n",
    "# Output the result\n",
    "print(X_inv)\n"
   ]
  },
  {
   "attachments": {},
   "cell_type": "markdown",
   "metadata": {},
   "source": [
    "<font size = \"5\">\n",
    "\n",
    "Try it yourself! Check that this is indeed an inverse:\n",
    "\n",
    "$X X_{inv} = \\begin{pmatrix} 1 & 0 & 0 \\\\ 0 & 1 & 0 \\\\ 0 & 0 & 1 \\end{pmatrix}$"
   ]
  },
  {
   "cell_type": "code",
   "execution_count": 32,
   "metadata": {},
   "outputs": [
    {
     "name": "stdout",
     "output_type": "stream",
     "text": [
      "[[ 1.00000000e+00  0.00000000e+00 -2.22044605e-16]\n",
      " [ 0.00000000e+00  1.00000000e+00  0.00000000e+00]\n",
      " [ 0.00000000e+00  0.00000000e+00  1.00000000e+00]]\n"
     ]
    }
   ],
   "source": [
    "# Multiply \"X\" times \"X_inv\" using the command shown above\n",
    "# Note: Sometimes the result is shown in scientific notation.\n",
    "\n",
    "\n",
    "\n"
   ]
  }
 ],
 "metadata": {
  "kernelspec": {
   "display_name": "base",
   "language": "python",
   "name": "python3"
  },
  "language_info": {
   "codemirror_mode": {
    "name": "ipython",
    "version": 3
   },
   "file_extension": ".py",
   "mimetype": "text/x-python",
   "name": "python",
   "nbconvert_exporter": "python",
   "pygments_lexer": "ipython3",
<<<<<<< HEAD
   "version": "3.7.11"
=======
   "version": "3.9.13 (main, Aug 25 2022, 18:29:29) \n[Clang 12.0.0 ]"
>>>>>>> upstream/main
  },
  "orig_nbformat": 4,
  "vscode": {
   "interpreter": {
    "hash": "90578f7affb954f5da612c485ce821968af3a104963948a9da0272ee3e0b8a24"
   }
  }
 },
 "nbformat": 4,
 "nbformat_minor": 2
}
