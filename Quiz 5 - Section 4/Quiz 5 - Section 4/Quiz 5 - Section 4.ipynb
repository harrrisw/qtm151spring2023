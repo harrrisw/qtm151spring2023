{
 "cells": [
  {
   "attachments": {},
   "cell_type": "markdown",
   "metadata": {},
   "source": [
    "# <span style=\"color:darkblue\"> QTM 151 - Quiz 5 </span>"
   ]
  },
  {
   "attachments": {},
   "cell_type": "markdown",
   "metadata": {},
   "source": [
    "## Try to submit as an HTML file"
   ]
  },
  {
   "attachments": {},
   "cell_type": "markdown",
   "metadata": {},
   "source": [
    "<font size=\"5\"> \n",
    "\n",
    "Print your name below"
   ]
  },
  {
   "cell_type": "code",
   "execution_count": 2,
   "metadata": {},
   "outputs": [
    {
     "name": "stdout",
     "output_type": "stream",
     "text": [
      "Harris\n"
     ]
    }
   ],
   "source": [
    "# Write your answer here\n",
    "\n",
    "print(\"Harris\")\n",
    "\n"
   ]
  },
  {
   "attachments": {},
   "cell_type": "markdown",
   "metadata": {},
   "source": [
    "<font size = \"5\" >\n",
    "This quiz is open book \n",
    "\n",
    "- You can use the lecture notes\n",
    "- You will get partial credit for attempting the questions\n",
    "- To get full credit, the code should run as intended\n",
    "- You should <span style=\"color:red\"> NOT </span> communicate with other students\n",
    "\n",
    "Print the following message: <br>\n",
    "\n",
    "\"I will abide by Emory's code of conduct\"\n"
   ]
  },
  {
   "cell_type": "code",
   "execution_count": 1,
   "metadata": {},
   "outputs": [
    {
     "name": "stdout",
     "output_type": "stream",
     "text": [
      "I will abide by Emory's code of conduct\n"
     ]
    }
   ],
   "source": [
    "# Write your answer here:\n",
    "\n",
    "print(\"I will abide by Emory's code of conduct\")\n"
   ]
  },
  {
   "attachments": {},
   "cell_type": "markdown",
   "metadata": {},
   "source": [
    "<font size = \"5\">\n",
    "\n",
    "Import the libraries \"matplotlib.pyplot\" and \"pandas\""
   ]
  },
  {
   "cell_type": "code",
   "execution_count": 3,
   "metadata": {},
   "outputs": [],
   "source": [
    "# Write your answer here\n",
    "\n",
    "import matplotlib.pyplot as plt\n",
    "import pandas as pd"
   ]
  },
  {
   "attachments": {},
   "cell_type": "markdown",
   "metadata": {},
   "source": [
    "<font size = \"5\">\n",
    "\n",
    "In this quiz you will work with exchange rate data on bitcoin, <br>\n",
    "for two exchange platforms:\n",
    "\n",
    "- 1 coin base bit coin (CB) to dollar (USD)\n",
    "- 1 ethereum bit coin (ET) to dollar (USD)."
   ]
  },
  {
   "attachments": {},
   "cell_type": "markdown",
   "metadata": {},
   "source": [
    "\n",
    "<font size = \"5\">\n",
    "\n",
    "(a) Import and parse dates\n",
    "\n",
    "<font size = \"3\">\n",
    "\n",
    "- Import the dataset \"bitcoin.csv\"\n",
    "- Parse the \"date_string\" column with ```pd.to_datetime()```\n",
    "- To get full points, set the \"format\" option using wildcards as in Lecture 21.\n"
   ]
  },
  {
   "cell_type": "code",
   "execution_count": 9,
   "metadata": {},
   "outputs": [
    {
     "data": {
      "text/html": [
       "<div>\n",
       "<style scoped>\n",
       "    .dataframe tbody tr th:only-of-type {\n",
       "        vertical-align: middle;\n",
       "    }\n",
       "\n",
       "    .dataframe tbody tr th {\n",
       "        vertical-align: top;\n",
       "    }\n",
       "\n",
       "    .dataframe thead th {\n",
       "        text-align: right;\n",
       "    }\n",
       "</style>\n",
       "<table border=\"1\" class=\"dataframe\">\n",
       "  <thead>\n",
       "    <tr style=\"text-align: right;\">\n",
       "      <th></th>\n",
       "      <th>date_string</th>\n",
       "      <th>cb_to_usd</th>\n",
       "      <th>et_to_usd</th>\n",
       "      <th>date</th>\n",
       "    </tr>\n",
       "  </thead>\n",
       "  <tbody>\n",
       "    <tr>\n",
       "      <th>0</th>\n",
       "      <td>2016 May 18, Wednesday</td>\n",
       "      <td>455.56</td>\n",
       "      <td>13.18</td>\n",
       "      <td>2016-05-18</td>\n",
       "    </tr>\n",
       "    <tr>\n",
       "      <th>1</th>\n",
       "      <td>2016 May 19, Thursday</td>\n",
       "      <td>438.38</td>\n",
       "      <td>14.90</td>\n",
       "      <td>2016-05-19</td>\n",
       "    </tr>\n",
       "    <tr>\n",
       "      <th>2</th>\n",
       "      <td>2016 May 20, Friday</td>\n",
       "      <td>445.65</td>\n",
       "      <td>14.17</td>\n",
       "      <td>2016-05-20</td>\n",
       "    </tr>\n",
       "    <tr>\n",
       "      <th>3</th>\n",
       "      <td>2016 May 21, Saturday</td>\n",
       "      <td>446.28</td>\n",
       "      <td>NaN</td>\n",
       "      <td>2016-05-21</td>\n",
       "    </tr>\n",
       "    <tr>\n",
       "      <th>4</th>\n",
       "      <td>2016 May 22, Sunday</td>\n",
       "      <td>442.48</td>\n",
       "      <td>NaN</td>\n",
       "      <td>2016-05-22</td>\n",
       "    </tr>\n",
       "    <tr>\n",
       "      <th>...</th>\n",
       "      <td>...</td>\n",
       "      <td>...</td>\n",
       "      <td>...</td>\n",
       "      <td>...</td>\n",
       "    </tr>\n",
       "    <tr>\n",
       "      <th>2513</th>\n",
       "      <td>2023 Apr 05, Wednesday</td>\n",
       "      <td>28187.68</td>\n",
       "      <td>1910.39</td>\n",
       "      <td>2023-04-05</td>\n",
       "    </tr>\n",
       "    <tr>\n",
       "      <th>2514</th>\n",
       "      <td>2023 Apr 06, Thursday</td>\n",
       "      <td>28053.47</td>\n",
       "      <td>1873.51</td>\n",
       "      <td>2023-04-06</td>\n",
       "    </tr>\n",
       "    <tr>\n",
       "      <th>2515</th>\n",
       "      <td>2023 Apr 07, Friday</td>\n",
       "      <td>27927.15</td>\n",
       "      <td>1864.71</td>\n",
       "      <td>2023-04-07</td>\n",
       "    </tr>\n",
       "    <tr>\n",
       "      <th>2516</th>\n",
       "      <td>2023 Apr 08, Saturday</td>\n",
       "      <td>27959.50</td>\n",
       "      <td>1850.01</td>\n",
       "      <td>2023-04-08</td>\n",
       "    </tr>\n",
       "    <tr>\n",
       "      <th>2517</th>\n",
       "      <td>2023 Apr 09, Sunday</td>\n",
       "      <td>28337.04</td>\n",
       "      <td>1858.23</td>\n",
       "      <td>2023-04-09</td>\n",
       "    </tr>\n",
       "  </tbody>\n",
       "</table>\n",
       "<p>2518 rows × 4 columns</p>\n",
       "</div>"
      ],
      "text/plain": [
       "                 date_string  cb_to_usd  et_to_usd       date\n",
       "0     2016 May 18, Wednesday     455.56      13.18 2016-05-18\n",
       "1      2016 May 19, Thursday     438.38      14.90 2016-05-19\n",
       "2        2016 May 20, Friday     445.65      14.17 2016-05-20\n",
       "3      2016 May 21, Saturday     446.28        NaN 2016-05-21\n",
       "4        2016 May 22, Sunday     442.48        NaN 2016-05-22\n",
       "...                      ...        ...        ...        ...\n",
       "2513  2023 Apr 05, Wednesday   28187.68    1910.39 2023-04-05\n",
       "2514   2023 Apr 06, Thursday   28053.47    1873.51 2023-04-06\n",
       "2515     2023 Apr 07, Friday   27927.15    1864.71 2023-04-07\n",
       "2516   2023 Apr 08, Saturday   27959.50    1850.01 2023-04-08\n",
       "2517     2023 Apr 09, Sunday   28337.04    1858.23 2023-04-09\n",
       "\n",
       "[2518 rows x 4 columns]"
      ]
     },
     "execution_count": 9,
     "metadata": {},
     "output_type": "execute_result"
    }
   ],
   "source": [
    "# Write your own code\n",
    "\n",
    "data = pd.read_csv(\"data_raw/bitcoin.csv\")\n",
    "data[\"date\"]=pd.to_datetime(data[\"date_string\"],format=\"%Y %b %d, %A\")\n",
    "data\n"
   ]
  },
  {
   "attachments": {},
   "cell_type": "markdown",
   "metadata": {},
   "source": [
    "<font size = \"5\">\n",
    "\n",
    "(b) Plot multiple time series\n",
    "\n",
    "<font size = \"3\">\n",
    "\n",
    "- Create a line plot plot which has the \"cb_to_usd\" and \"et_to_usd\" on the y-axis <br>\n",
    "and the date on the x-axis\n",
    "- Label the x-axis, the y-axis, and the title\n",
    "- Add a legend and set the names to \"1 CoinBase bitcoin to USD\" <br>\n",
    "and \"1 Ethereum bitcoin to USD\"\n",
    "\n",
    "Hint: See Lecture 22 for how to plot multiple columns <br>\n",
    "Hint: Remember to include the legend names as a list ```[...]```"
   ]
  },
  {
   "cell_type": "code",
   "execution_count": 11,
   "metadata": {},
   "outputs": [
    {
     "data": {
      "text/plain": [
       "<matplotlib.legend.Legend at 0x1c12a566e10>"
      ]
     },
     "execution_count": 11,
     "metadata": {},
     "output_type": "execute_result"
    },
    {
     "data": {
      "image/png": "[encoded data removed]",
      "text/plain": [
       "<Figure size 640x480 with 1 Axes>"
      ]
     },
     "metadata": {},
     "output_type": "display_data"
    }
   ],
   "source": [
    "# Write your own code\n",
    "\n",
    "(data[[\"date\",\"cb_to_usd\",\"et_to_usd\"]]\n",
    "    .set_index(\"date\").plot())\n",
    "plt.xlabel(\"Time\")\n",
    "plt.ylabel(\"Exchange Rates\")\n",
    "plt.title(\"Crypto Exchange\")\n",
    "plt.legend([\"1 CoinBase bitcoin to USD\",\"1 Ethereum bitcoin to USD\"])\n"
   ]
  },
  {
   "attachments": {},
   "cell_type": "markdown",
   "metadata": {},
   "source": [
    "<font size = \"5\">\n",
    "\n",
    "(c) Compute growth rates\n",
    "\n",
    "<font size = \"3\">\n",
    "\n",
    "- Calculate a new column \"growth_cb\" which computes the percentage daily <br>\n",
    "growth rate of \"cb_to_usd\".\n",
    "\n",
    "Hint: Use ```.diff()``` and ```.shift(1)``` as in Lecture 22"
   ]
  },
  {
   "cell_type": "code",
   "execution_count": 13,
   "metadata": {},
   "outputs": [
    {
     "data": {
      "text/plain": [
       "0            NaN\n",
       "1      -3.771183\n",
       "2       1.658379\n",
       "3       0.141367\n",
       "4      -0.851483\n",
       "          ...   \n",
       "2513    0.055587\n",
       "2514   -0.476130\n",
       "2515   -0.450283\n",
       "2516    0.115837\n",
       "2517    1.350310\n",
       "Name: growth_cb, Length: 2518, dtype: float64"
      ]
     },
     "execution_count": 13,
     "metadata": {},
     "output_type": "execute_result"
    }
   ],
   "source": [
    "# Write your own code\n",
    "\n",
    "data[\"diff_cb\"] = data[\"cb_to_usd\"].diff()\n",
    "data[\"lag_cb\"] = data[\"cb_to_usd\"].shift(1)\n",
    "data[\"growth_cb\"] = data[\"diff_cb\"]* 100/data[\"lag_cb\"]\n",
    "data[\"growth_cb\"]"
   ]
  },
  {
   "attachments": {},
   "cell_type": "markdown",
   "metadata": {},
   "source": [
    "<font size = \"5\">\n",
    "\n",
    "(d) Flag subset of data and plot\n",
    "\n",
    "<font size = \"3\">\n",
    "\n",
    "- Create a boolean colum (True/False) \"bool_cond\" which checks whether <br>\n",
    "\"growth_cb\" had a value greater than 15 or less than -15\n",
    "- Generate a line plot with the \"growth_cb\" series, label the axes and the title\n",
    "- Use the command ```plt.fill_between()``` as in Lecture 22 to create a shaded region <br>\n",
    "for time periods where \"bool_cond\" is true.\n",
    "\n"
   ]
  },
  {
   "cell_type": "code",
   "execution_count": 15,
   "metadata": {},
   "outputs": [
    {
     "data": {
      "image/png": "[encoded data removed]",
      "text/plain": [
       "<Figure size 640x480 with 1 Axes>"
      ]
     },
     "metadata": {},
     "output_type": "display_data"
    }
   ],
   "source": [
    "# Write your own code\n",
    "\n",
    "plt.plot(\"date\", \"growth_cb\", data = data)\n",
    "plt.xlabel(\"Time\")\n",
    "plt.ylabel(\"Daily percentage change \")\n",
    "plt.title(\"Bitcoin Exchange Fluctuations\")\n",
    "\n",
    "data[\"bool_cond\"]= (data[\"growth_cb\"]>15)|(data[\"growth_cb\"]<-15)\n",
    "vec_y = data[\"growth_cb\"]\n",
    "plt.fill_between(x= data[\"date\"],\n",
    "                 y1 = vec_y.min(),\n",
    "                 y2 = vec_y.max(),\n",
    "                 where = data[\"bool_cond\"], # can change to bool_period\n",
    "                 alpha = 0.2,color = \"red\")\n",
    "\n",
    "plt.show()\n"
   ]
  },
  {
   "attachments": {},
   "cell_type": "markdown",
   "metadata": {},
   "source": [
    "<font size = \"5\">\n",
    "\n",
    "(e) Aggregate dataset by time period\n",
    "\n",
    "<font size = \"3\">\n",
    "\n",
    "- Create an object \"month_config\" that uses ```pd.Grouper()```, setting the key to <br>\n",
    "the date column and freq to \"m\" (month)\n",
    "- Follow the instructions in Lecture 21 to compute an aggregate dataset <br>\n",
    "by month which computes the standard deviation of \"cb_to_usd\"\n",
    "- Display the dataset\n",
    "\n",
    "\n"
   ]
  },
  {
   "cell_type": "code",
   "execution_count": 20,
   "metadata": {},
   "outputs": [
    {
     "data": {
      "text/html": [
       "<div>\n",
       "<style scoped>\n",
       "    .dataframe tbody tr th:only-of-type {\n",
       "        vertical-align: middle;\n",
       "    }\n",
       "\n",
       "    .dataframe tbody tr th {\n",
       "        vertical-align: top;\n",
       "    }\n",
       "\n",
       "    .dataframe thead th {\n",
       "        text-align: right;\n",
       "    }\n",
       "</style>\n",
       "<table border=\"1\" class=\"dataframe\">\n",
       "  <thead>\n",
       "    <tr style=\"text-align: right;\">\n",
       "      <th></th>\n",
       "      <th>date</th>\n",
       "      <th>cb_std</th>\n",
       "    </tr>\n",
       "  </thead>\n",
       "  <tbody>\n",
       "    <tr>\n",
       "      <th>0</th>\n",
       "      <td>2016-05-31</td>\n",
       "      <td>37.522931</td>\n",
       "    </tr>\n",
       "    <tr>\n",
       "      <th>1</th>\n",
       "      <td>2016-06-30</td>\n",
       "      <td>67.727627</td>\n",
       "    </tr>\n",
       "    <tr>\n",
       "      <th>2</th>\n",
       "      <td>2016-07-31</td>\n",
       "      <td>13.843294</td>\n",
       "    </tr>\n",
       "    <tr>\n",
       "      <th>3</th>\n",
       "      <td>2016-08-31</td>\n",
       "      <td>11.616248</td>\n",
       "    </tr>\n",
       "    <tr>\n",
       "      <th>4</th>\n",
       "      <td>2016-09-30</td>\n",
       "      <td>10.997678</td>\n",
       "    </tr>\n",
       "    <tr>\n",
       "      <th>...</th>\n",
       "      <td>...</td>\n",
       "      <td>...</td>\n",
       "    </tr>\n",
       "    <tr>\n",
       "      <th>79</th>\n",
       "      <td>2022-12-31</td>\n",
       "      <td>317.869463</td>\n",
       "    </tr>\n",
       "    <tr>\n",
       "      <th>80</th>\n",
       "      <td>2023-01-31</td>\n",
       "      <td>2655.277513</td>\n",
       "    </tr>\n",
       "    <tr>\n",
       "      <th>81</th>\n",
       "      <td>2023-02-28</td>\n",
       "      <td>947.762915</td>\n",
       "    </tr>\n",
       "    <tr>\n",
       "      <th>82</th>\n",
       "      <td>2023-03-31</td>\n",
       "      <td>2826.126499</td>\n",
       "    </tr>\n",
       "    <tr>\n",
       "      <th>83</th>\n",
       "      <td>2023-04-30</td>\n",
       "      <td>208.113245</td>\n",
       "    </tr>\n",
       "  </tbody>\n",
       "</table>\n",
       "<p>84 rows × 2 columns</p>\n",
       "</div>"
      ],
      "text/plain": [
       "         date       cb_std\n",
       "0  2016-05-31    37.522931\n",
       "1  2016-06-30    67.727627\n",
       "2  2016-07-31    13.843294\n",
       "3  2016-08-31    11.616248\n",
       "4  2016-09-30    10.997678\n",
       "..        ...          ...\n",
       "79 2022-12-31   317.869463\n",
       "80 2023-01-31  2655.277513\n",
       "81 2023-02-28   947.762915\n",
       "82 2023-03-31  2826.126499\n",
       "83 2023-04-30   208.113245\n",
       "\n",
       "[84 rows x 2 columns]"
      ]
     },
     "execution_count": 20,
     "metadata": {},
     "output_type": "execute_result"
    }
   ],
   "source": [
    "# Write your own code\n",
    "month_config = pd.Grouper(key='date', freq='m')\n",
    "\n",
    "monthlydata = (data\n",
    "               .groupby(month_config) \n",
    "               .agg(cb_std = (\"cb_to_usd\",\"std\"))\n",
    "               .reset_index())\n",
    "\n",
    "monthlydata"
   ]
  },
  {
   "attachments": {},
   "cell_type": "markdown",
   "metadata": {},
   "source": [
    "<font size = \"5\">\n",
    "\n",
    "(f) Convert a dataset to long format\n",
    "\n",
    "<font size = \"3\">\n",
    "\n",
    "- Convert the currencies dataset to long format using the following inputs\n",
    "\n",
    "```\n",
    "var_name   = \"type\",\n",
    "value_name = \"exchange_rate\",\n",
    "id_vars    = \"date\",\n",
    "value_vars = [\"cb_to_usd\",\"et_to_usd\"]\n",
    "```\n",
    "\n",
    "- Display the dataset\n",
    "\n",
    "Hint: See Lecture 22 for details on ```pd.melt()```"
   ]
  },
  {
   "cell_type": "code",
   "execution_count": 19,
   "metadata": {},
   "outputs": [
    {
     "data": {
      "text/html": [
       "<div>\n",
       "<style scoped>\n",
       "    .dataframe tbody tr th:only-of-type {\n",
       "        vertical-align: middle;\n",
       "    }\n",
       "\n",
       "    .dataframe tbody tr th {\n",
       "        vertical-align: top;\n",
       "    }\n",
       "\n",
       "    .dataframe thead th {\n",
       "        text-align: right;\n",
       "    }\n",
       "</style>\n",
       "<table border=\"1\" class=\"dataframe\">\n",
       "  <thead>\n",
       "    <tr style=\"text-align: right;\">\n",
       "      <th></th>\n",
       "      <th>date</th>\n",
       "      <th>type</th>\n",
       "      <th>exchange_rate</th>\n",
       "    </tr>\n",
       "  </thead>\n",
       "  <tbody>\n",
       "    <tr>\n",
       "      <th>0</th>\n",
       "      <td>2016-05-18</td>\n",
       "      <td>cb_to_usd</td>\n",
       "      <td>455.56</td>\n",
       "    </tr>\n",
       "    <tr>\n",
       "      <th>1</th>\n",
       "      <td>2016-05-19</td>\n",
       "      <td>cb_to_usd</td>\n",
       "      <td>438.38</td>\n",
       "    </tr>\n",
       "    <tr>\n",
       "      <th>2</th>\n",
       "      <td>2016-05-20</td>\n",
       "      <td>cb_to_usd</td>\n",
       "      <td>445.65</td>\n",
       "    </tr>\n",
       "    <tr>\n",
       "      <th>3</th>\n",
       "      <td>2016-05-21</td>\n",
       "      <td>cb_to_usd</td>\n",
       "      <td>446.28</td>\n",
       "    </tr>\n",
       "    <tr>\n",
       "      <th>4</th>\n",
       "      <td>2016-05-22</td>\n",
       "      <td>cb_to_usd</td>\n",
       "      <td>442.48</td>\n",
       "    </tr>\n",
       "    <tr>\n",
       "      <th>...</th>\n",
       "      <td>...</td>\n",
       "      <td>...</td>\n",
       "      <td>...</td>\n",
       "    </tr>\n",
       "    <tr>\n",
       "      <th>5031</th>\n",
       "      <td>2023-04-05</td>\n",
       "      <td>et_to_usd</td>\n",
       "      <td>1910.39</td>\n",
       "    </tr>\n",
       "    <tr>\n",
       "      <th>5032</th>\n",
       "      <td>2023-04-06</td>\n",
       "      <td>et_to_usd</td>\n",
       "      <td>1873.51</td>\n",
       "    </tr>\n",
       "    <tr>\n",
       "      <th>5033</th>\n",
       "      <td>2023-04-07</td>\n",
       "      <td>et_to_usd</td>\n",
       "      <td>1864.71</td>\n",
       "    </tr>\n",
       "    <tr>\n",
       "      <th>5034</th>\n",
       "      <td>2023-04-08</td>\n",
       "      <td>et_to_usd</td>\n",
       "      <td>1850.01</td>\n",
       "    </tr>\n",
       "    <tr>\n",
       "      <th>5035</th>\n",
       "      <td>2023-04-09</td>\n",
       "      <td>et_to_usd</td>\n",
       "      <td>1858.23</td>\n",
       "    </tr>\n",
       "  </tbody>\n",
       "</table>\n",
       "<p>5036 rows × 3 columns</p>\n",
       "</div>"
      ],
      "text/plain": [
       "           date       type  exchange_rate\n",
       "0    2016-05-18  cb_to_usd         455.56\n",
       "1    2016-05-19  cb_to_usd         438.38\n",
       "2    2016-05-20  cb_to_usd         445.65\n",
       "3    2016-05-21  cb_to_usd         446.28\n",
       "4    2016-05-22  cb_to_usd         442.48\n",
       "...         ...        ...            ...\n",
       "5031 2023-04-05  et_to_usd        1910.39\n",
       "5032 2023-04-06  et_to_usd        1873.51\n",
       "5033 2023-04-07  et_to_usd        1864.71\n",
       "5034 2023-04-08  et_to_usd        1850.01\n",
       "5035 2023-04-09  et_to_usd        1858.23\n",
       "\n",
       "[5036 rows x 3 columns]"
      ]
     },
     "execution_count": 19,
     "metadata": {},
     "output_type": "execute_result"
    }
   ],
   "source": [
    "# Write your own code\n",
    "data_long = pd.melt(data,\n",
    "                    var_name   = \"type\",\n",
    "                    value_name = \"exchange_rate\",\n",
    "                    id_vars    = \"date\",\n",
    "                    value_vars = [\"cb_to_usd\",\"et_to_usd\"])\n",
    "\n",
    "data_long\n"
   ]
  }
 ],
 "metadata": {
  "kernelspec": {
   "display_name": "base",
   "language": "python",
   "name": "python3"
  },
  "language_info": {
   "codemirror_mode": {
    "name": "ipython",
    "version": 3
   },
   "file_extension": ".py",
   "mimetype": "text/x-python",
   "name": "python",
   "nbconvert_exporter": "python",
   "pygments_lexer": "ipython3",
   "version": "3.11.0"
  },
  "orig_nbformat": 4,
  "vscode": {
   "interpreter": {
    "hash": "45fc1f684f6f416f40889115beff3ddf69879b64cf4bfee48cb72a61e9d15d1a"
   }
  }
 },
 "nbformat": 4,
 "nbformat_minor": 2
}
